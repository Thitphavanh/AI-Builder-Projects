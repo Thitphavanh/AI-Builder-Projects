{
 "cells": [
  {
   "cell_type": "markdown",
   "metadata": {
    "id": "FgGbBJp7X42A"
   },
   "source": [
    "# บทที่ 4t (1/3) - Tabular Data คืออะไร \n",
    "\n",
    "อ.ดร.ธนชาตย์ ฤทธิ์บำรุง (อ.เชค)"
   ]
  },
  {
   "cell_type": "markdown",
   "metadata": {},
   "source": [
    "[![Open In Colab](https://colab.research.google.com/assets/colab-badge.svg)](https://colab.research.google.com/github/ai-builders/curriculum/blob/main/notebooks/04t_01_intro_to_tabular_data.ipynb)"
   ]
  },
  {
   "cell_type": "markdown",
   "metadata": {
    "id": "OK6cXJPvYT6q"
   },
   "source": [
    "ในหัวข้อนี้ เราจะมาทำความรู้จักเกี่ยวกับ Tabular Data หรือ ข้อมูล ซึ่งเป็นโครงสร้างการเก็บข้อมูลพื้นฐานทั่วไปที่เรามักจะพบเจออยู่ตลอดเวลา"
   ]
  },
  {
   "cell_type": "markdown",
   "metadata": {
    "id": "8Ani_rWPZIJ9"
   },
   "source": [
    "**เป้าหมายการเรียนรู้**\n",
    "1. เข้าใจการเก็บข้อมูลในรูปแบบตาราง หรือ Tabular Data\n",
    "2. เข้าใจองค์ประกอบหลักของ Tabular Data\n",
    "3. สามารถออกแบบตารางเพื่อเก็บข้อมูลทั่วไปได้"
   ]
  },
  {
   "cell_type": "markdown",
   "metadata": {
    "id": "odEYdI7UZjHN"
   },
   "source": [
    "# Tabular Data"
   ]
  },
  {
   "cell_type": "markdown",
   "metadata": {
    "id": "j4EYT-cUZzt4"
   },
   "source": [
    "*   Tabular data หรือ ข้อมูลตาราง เป็นการจัดเก็บข้อมูลในรูปแบบโครางสร้าง 2 มิติ\n",
    "*   ตารางประกอบด้วย เซลล์ (Cell) คอลัมน์ (Column) และ แถว (Row)\n",
    "*   เซลล์ (Cell) เป็นหน่วยย่อยที่สุดของตารางและเป็นจุดตัดของ Column และ Row ทำหน้าที่ในการเก็บข้อมูล \n",
    "*   คอลัมน์ (Column) เป็นแถบแนวตั้งของ Cell\n",
    "*   แถว (Row) เป็นแถบแนวนอนของ Cell"
   ]
  },
  {
   "cell_type": "markdown",
   "metadata": {
    "id": "vsbosuqcw7Cy"
   },
   "source": [
    "<img src=https://github.com/ai-builders/curriculum/raw/main/images/tabular_images/01.png width=\"750px\">"
   ]
  },
  {
   "cell_type": "markdown",
   "metadata": {
    "id": "4R0_Okcig-o6"
   },
   "source": [
    "จากตัวอย่างด้านบน\n",
    "*   ตาราง ทำหน้าที่ในการเก็บข้อมูล บุคคล\n",
    "*   คอลัมน์ (Column) เป็นคุณสมบัติ หรือ คุณลักษณะของบุคคลที่เราสนใจอยากเก็บข้อมูล ซึ่งได้แก่ Name, Gender, Hometomn, Age, Scores\n",
    "*   แถว (Row) เป็นข้อมูลของแต่ละบุคคล\n",
    "*   โดยทั่วไปแล้ว คอลัมน์แรกจะทำหน้าที่เป็น ID หรือ Identifier เพื่อเป็นรหัสในการระบุข้อมูลแบบเจาะจงว่า ดังนั้น ID จะซ้ำไม่ได้"
   ]
  },
  {
   "cell_type": "markdown",
   "metadata": {
    "id": "WYx4sEJZIhnC"
   },
   "source": [
    "แหล่งตัวอย่างข้อมูล Tabular Data สามารถหาได้จาก\n",
    "https://www.kaggle.com/datasets"
   ]
  },
  {
   "cell_type": "markdown",
   "metadata": {
    "id": "DvbRqNrAh_1K"
   },
   "source": [
    "# ประเภทข้อมูล"
   ]
  },
  {
   "cell_type": "markdown",
   "metadata": {
    "id": "FdGkpgm_irXG"
   },
   "source": [
    "\n",
    "\n",
    "*   แต่ละ Column นั้น จะมีการกำหนดประเภทข้อมูล เพื่อให้การจัดเก็บข้อมูลมีความเป็นระเบียบ ถูกต้อง\n",
    "*   เช่น Column ที่จัดเก็บอายุ เมื่อกำหนดว่า Column นี้ เป็น Numerical แล้ว ถ้ามีความพยายามในการบันทึกข้อมูลเป็นตัวหนังสือ เช่น สิบห้าปี จะไม่สามารถบันทึกได้\n",
    "*   ทำให้ข้อมูลใน Column ที่ชื่อ Age จะมีแต่ตัวเลขจัดเก็บไว้เท่านั้น เราสามารถนำชุดตัวเลขนี้มาทำการวิเคราะห์ข้อมูลได้เลย ไม่ต้องมาแปลงจากตัวหนังสือ มาเป็นตัวเลขทีหลัง\n",
    "\n",
    "\n",
    "\n",
    "\n",
    "\n",
    "\n",
    "\n"
   ]
  },
  {
   "cell_type": "markdown",
   "metadata": {
    "id": "OrhI1thLjpXG"
   },
   "source": [
    "ตัวอย่างประเภทข้อมูลที่สำคัญใน Tabular Data\n",
    "\n",
    "*   Number เป็นข้อมูลประเภทตัวเลข โดยมี Integer เป็นข้อมูลประเภทจำนวนเต็ม และ Float เป็นข้อมูลประเภทเลขทศนิยม\n",
    "*   String เป็นข้อมูลประเภทตัวหนังสือ\n",
    "*   Date เป็นข้อมูลประเภทวันที่\n",
    "*   Date-Time เป็นข้อมูลประเภทวันที่และเวลา"
   ]
  },
  {
   "cell_type": "code",
   "execution_count": 1,
   "metadata": {
    "colab": {
     "base_uri": "https://localhost:8080/"
    },
    "executionInfo": {
     "elapsed": 5,
     "status": "ok",
     "timestamp": 1652157776889,
     "user": {
      "displayName": "Thanachart Ritbumroong",
      "userId": "18414212507793256437"
     },
     "user_tz": -420
    },
    "id": "0psznMXGnLEq",
    "outputId": "2d37e1fd-0f34-464b-979e-44f96373a519"
   },
   "outputs": [
    {
     "name": "stdout",
     "output_type": "stream",
     "text": [
      "5\n"
     ]
    },
    {
     "data": {
      "text/plain": [
       "int"
      ]
     },
     "execution_count": 1,
     "metadata": {},
     "output_type": "execute_result"
    }
   ],
   "source": [
    "a = 5\n",
    "\n",
    "print(a)\n",
    "type(a)"
   ]
  },
  {
   "cell_type": "code",
   "execution_count": 2,
   "metadata": {
    "colab": {
     "base_uri": "https://localhost:8080/"
    },
    "executionInfo": {
     "elapsed": 330,
     "status": "ok",
     "timestamp": 1651593666432,
     "user": {
      "displayName": "Thanachart Ritbumroong",
      "userId": "18414212507793256437"
     },
     "user_tz": -420
    },
    "id": "7S27gO0Nnh9q",
    "outputId": "cfda46e7-5029-4e6b-a399-c3c9da55fe36"
   },
   "outputs": [
    {
     "name": "stdout",
     "output_type": "stream",
     "text": [
      "3.14\n"
     ]
    },
    {
     "data": {
      "text/plain": [
       "float"
      ]
     },
     "execution_count": 2,
     "metadata": {},
     "output_type": "execute_result"
    }
   ],
   "source": [
    "b = 3.14\n",
    "\n",
    "print(b)\n",
    "type(b)"
   ]
  },
  {
   "cell_type": "code",
   "execution_count": 3,
   "metadata": {
    "colab": {
     "base_uri": "https://localhost:8080/"
    },
    "executionInfo": {
     "elapsed": 340,
     "status": "ok",
     "timestamp": 1651593672695,
     "user": {
      "displayName": "Thanachart Ritbumroong",
      "userId": "18414212507793256437"
     },
     "user_tz": -420
    },
    "id": "s0JPFqK7nleb",
    "outputId": "663ceead-2b0a-4e26-8250-e9a7244887c4"
   },
   "outputs": [
    {
     "name": "stdout",
     "output_type": "stream",
     "text": [
      "My girl\n"
     ]
    },
    {
     "data": {
      "text/plain": [
       "str"
      ]
     },
     "execution_count": 3,
     "metadata": {},
     "output_type": "execute_result"
    }
   ],
   "source": [
    "c = 'My girl'\n",
    "\n",
    "print(c)\n",
    "type(c)"
   ]
  },
  {
   "cell_type": "code",
   "execution_count": 4,
   "metadata": {
    "colab": {
     "base_uri": "https://localhost:8080/"
    },
    "executionInfo": {
     "elapsed": 345,
     "status": "ok",
     "timestamp": 1651593679858,
     "user": {
      "displayName": "Thanachart Ritbumroong",
      "userId": "18414212507793256437"
     },
     "user_tz": -420
    },
    "id": "ssBhNpYEnplf",
    "outputId": "3ed7e0bc-138f-431b-f329-b8a5ee6cafed"
   },
   "outputs": [
    {
     "name": "stdout",
     "output_type": "stream",
     "text": [
      "100\n"
     ]
    },
    {
     "data": {
      "text/plain": [
       "str"
      ]
     },
     "execution_count": 4,
     "metadata": {},
     "output_type": "execute_result"
    }
   ],
   "source": [
    "d = '100'\n",
    "\n",
    "print(d)\n",
    "type(d)"
   ]
  },
  {
   "cell_type": "code",
   "execution_count": 6,
   "metadata": {
    "colab": {
     "base_uri": "https://localhost:8080/"
    },
    "executionInfo": {
     "elapsed": 349,
     "status": "ok",
     "timestamp": 1651593684362,
     "user": {
      "displayName": "Thanachart Ritbumroong",
      "userId": "18414212507793256437"
     },
     "user_tz": -420
    },
    "id": "FSFEvH_Pns00",
    "outputId": "d0d1058d-b7b8-4901-85d4-8dd43f3a0de4"
   },
   "outputs": [
    {
     "name": "stdout",
     "output_type": "stream",
     "text": [
      "2022-07-08\n"
     ]
    },
    {
     "data": {
      "text/plain": [
       "datetime.date"
      ]
     },
     "execution_count": 6,
     "metadata": {},
     "output_type": "execute_result"
    }
   ],
   "source": [
    "import datetime\n",
    "\n",
    "e = datetime.date(2022,7,8)\n",
    "\n",
    "print(e)\n",
    "type(e)"
   ]
  },
  {
   "cell_type": "code",
   "execution_count": 7,
   "metadata": {
    "colab": {
     "base_uri": "https://localhost:8080/"
    },
    "executionInfo": {
     "elapsed": 4,
     "status": "ok",
     "timestamp": 1651593729228,
     "user": {
      "displayName": "Thanachart Ritbumroong",
      "userId": "18414212507793256437"
     },
     "user_tz": -420
    },
    "id": "o5veL6MtpfMw",
    "outputId": "a4084078-c7d8-4df7-bbe1-222981858911"
   },
   "outputs": [
    {
     "name": "stdout",
     "output_type": "stream",
     "text": [
      "2022-07-08 06:40:30.000040\n"
     ]
    },
    {
     "data": {
      "text/plain": [
       "datetime.datetime"
      ]
     },
     "execution_count": 7,
     "metadata": {},
     "output_type": "execute_result"
    }
   ],
   "source": [
    "import datetime\n",
    "\n",
    "f = datetime.datetime(2022,7,8,6,40,30,40)\n",
    "\n",
    "print(f)\n",
    "type(f)"
   ]
  },
  {
   "cell_type": "markdown",
   "metadata": {
    "id": "k7hWzZB0oc2F"
   },
   "source": [
    "# Pandas - Your good friend for tabular data"
   ]
  },
  {
   "cell_type": "markdown",
   "metadata": {
    "id": "SQ8FIqETorVw"
   },
   "source": [
    "Pandas เป็น Python Module ที่มี function ต่างๆ สำหรับการจัดการและการวิเคราะห์ข้อมูลประเภท Tabular Data"
   ]
  },
  {
   "cell_type": "markdown",
   "metadata": {
    "id": "pbrbQc36qaUc"
   },
   "source": [
    "Functionality ของ Pandas ได้แก่\n",
    "\n",
    "\n",
    "\n",
    "*   Create\n",
    "\n",
    "*   Read\n",
    "\n",
    "*   Combine\n",
    "\n",
    "*   Aggregate\n",
    "\n",
    "*   Transform\n",
    "\n",
    "*   Analyze\n",
    "\n",
    "*   Write\n",
    "\n",
    "\n",
    "\n",
    "\n",
    "\n"
   ]
  },
  {
   "cell_type": "markdown",
   "metadata": {
    "id": "NYCOQ1yiq7Wg"
   },
   "source": [
    "## Create Tabular Data"
   ]
  },
  {
   "cell_type": "markdown",
   "metadata": {
    "id": "J-DAMbzUrTUP"
   },
   "source": [
    "เราสามารถสร้าง Tabular Data จากคำสั่ง DataFrame ได้เลย\n",
    "\n",
    "https://pandas.pydata.org/docs/reference/api/pandas.DataFrame.html"
   ]
  },
  {
   "cell_type": "markdown",
   "metadata": {
    "id": "Ep2kb6IdxXqM"
   },
   "source": [
    "<img src=https://github.com/ai-builders/curriculum/raw/main/images/tabular_images/02.png width=\"750px\">"
   ]
  },
  {
   "cell_type": "code",
   "execution_count": 9,
   "metadata": {
    "colab": {
     "base_uri": "https://localhost:8080/"
    },
    "executionInfo": {
     "elapsed": 340,
     "status": "ok",
     "timestamp": 1651594518327,
     "user": {
      "displayName": "Thanachart Ritbumroong",
      "userId": "18414212507793256437"
     },
     "user_tz": -420
    },
    "id": "N9NBHhFqrgW9",
    "outputId": "81322940-6205-4ac1-fb0c-03ff1092056f"
   },
   "outputs": [
    {
     "name": "stdout",
     "output_type": "stream",
     "text": [
      "    Name  Gender     Hometown  Age  Scores\n",
      "0   Hery    Male  Savannakhet   27      90\n",
      "1  James    Male    Vientaine   26      84\n",
      "2    Noy    Male    Vientaine   26      78\n",
      "3     Jo    Male   Xayyabouly   26      92\n",
      "4   Mint  Female       Borkeo   24      88\n"
     ]
    }
   ],
   "source": [
    "## create pandas dataframe from dictionaries\n",
    "\n",
    "import pandas as pd\n",
    "\n",
    "row1 = {'Name': 'Hery', 'Gender': 'Male', 'Hometown': 'Savannakhet', 'Age': 27, 'Scores': 90}\n",
    "row2 = {'Name': 'James', 'Gender': 'Male', 'Hometown': 'Vientaine', 'Age': 26, 'Scores': 84}\n",
    "row3 = {'Name': 'Noy', 'Gender': 'Male', 'Hometown': 'Vientaine', 'Age': 26, 'Scores': 78}\n",
    "row4 = {'Name': 'Jo', 'Gender': 'Male', 'Hometown': 'Xayyabouly', 'Age': 26, 'Scores': 92}\n",
    "row5 = {'Name': 'Mint', 'Gender': 'Female', 'Hometown': 'Borkeo', 'Age': 24, 'Scores': 88}\n",
    "\n",
    "df = pd.DataFrame([row1,\n",
    "                   row2,\n",
    "                   row3,\n",
    "                   row4,\n",
    "                   row5])\n",
    "\n",
    "print(df)"
   ]
  },
  {
   "cell_type": "code",
   "execution_count": 10,
   "metadata": {
    "colab": {
     "base_uri": "https://localhost:8080/"
    },
    "executionInfo": {
     "elapsed": 319,
     "status": "ok",
     "timestamp": 1651594820938,
     "user": {
      "displayName": "Thanachart Ritbumroong",
      "userId": "18414212507793256437"
     },
     "user_tz": -420
    },
    "id": "LCWfkFQKtQ-L",
    "outputId": "47525c99-6ce8-4a7e-ff32-74a14ea0160c"
   },
   "outputs": [
    {
     "name": "stdout",
     "output_type": "stream",
     "text": [
      "    Name  Gender     Hometown  Age  Scores\n",
      "0   Hery    Male  Savannakhet   27      90\n",
      "1  James    Male    Vientaine   26      84\n",
      "2    Noy    Male    Vientaine   26      78\n",
      "3     Jo    Male   Xayyabouly   26      92\n",
      "4   Mint  Female       Borkeo   24      88\n"
     ]
    }
   ],
   "source": [
    "## create pandas dataframe from lists\n",
    "\n",
    "import pandas as pd\n",
    "\n",
    "\n",
    "list1 = ['Hery',\t'Male',\t'Savannakhet', 27,\t90]\n",
    "list2 = ['James',\t'Male',\t'Vientaine', 26,\t84]\n",
    "list3 = ['Noy',\t'Male',\t'Vientaine', 26, 78]\n",
    "list4 = ['Jo',\t'Male',\t'Xayyabouly', 26,\t92]\n",
    "list5 = ['Mint',\t'Female',\t'Borkeo', 24,\t88]\n",
    "\n",
    "\n",
    "df = pd.DataFrame([list1,\n",
    "                   list2,\n",
    "                   list3,\n",
    "                   list4,\n",
    "                   list5], columns=['Name', 'Gender', 'Hometown', 'Age', 'Scores'])\n",
    "\n",
    "print(df)"
   ]
  },
  {
   "cell_type": "markdown",
   "metadata": {
    "id": "mHSvRvdKubH0"
   },
   "source": [
    "## Read Tabular Data"
   ]
  },
  {
   "cell_type": "markdown",
   "metadata": {
    "id": "J06ezeUyufms"
   },
   "source": [
    "โดยปกติ ข้อมูลรูปแบบ Tabular Data จะถูกจัดเก็บไว้ด้วย Microsoft Excel และจะถูกบันทึกเก็บไว้ในรูปแบบไฟล์ที่ชื่อว่า CSV หรือ Comma Separated Value\n",
    "\n",
    "ถ้าเราใช้ Notepad เปิดไฟล์ประเภท CSV นี้ เราจะเห็นว่าข้อมูลถูกเก็บไว้ในรูปแบบข้อมูลดิบ"
   ]
  },
  {
   "cell_type": "markdown",
   "metadata": {
    "id": "sfbdd7_3xbDk"
   },
   "source": [
    "<img src=https://github.com/ai-builders/curriculum/raw/main/images/tabular_images/03.png width=\"500px\">"
   ]
  },
  {
   "cell_type": "code",
   "execution_count": 11,
   "metadata": {
    "colab": {
     "base_uri": "https://localhost:8080/"
    },
    "executionInfo": {
     "elapsed": 1032,
     "status": "ok",
     "timestamp": 1652159799669,
     "user": {
      "displayName": "Thanachart Ritbumroong",
      "userId": "18414212507793256437"
     },
     "user_tz": -420
    },
    "id": "EVsoapucvbPL",
    "outputId": "a2a42181-5baa-4dc5-ab58-a54b045a9f6d"
   },
   "outputs": [
    {
     "name": "stdout",
     "output_type": "stream",
     "text": [
      "   ID   Name  Gender   Hometown  Age  Scores\n",
      "0   1    Bob    Male    Bangkok   16      90\n",
      "1   2  Alice  Female  Chiangmai   15      84\n",
      "2   3    Tom    Male   Khonkaen   14      78\n",
      "3   4    Tim    Male    Buriram   17      92\n",
      "4   5   Lisa  Female       Loei   16      88\n"
     ]
    }
   ],
   "source": [
    "## create pandas dataframe from a csv file\n",
    "\n",
    "import pandas as pd\n",
    "\n",
    "url = 'https://github.com/ai-builders/curriculum/raw/main/data/students.csv'\n",
    "df = pd.read_csv(url)\n",
    "\n",
    "print(df)"
   ]
  },
  {
   "cell_type": "markdown",
   "metadata": {
    "id": "GVaRoklLBMvE"
   },
   "source": [
    "### แสดงผลเฉพาะ Column ที่ต้องการ"
   ]
  },
  {
   "cell_type": "code",
   "execution_count": null,
   "metadata": {
    "colab": {
     "base_uri": "https://localhost:8080/"
    },
    "executionInfo": {
     "elapsed": 3,
     "status": "ok",
     "timestamp": 1651599706932,
     "user": {
      "displayName": "Thanachart Ritbumroong",
      "userId": "18414212507793256437"
     },
     "user_tz": -420
    },
    "id": "psgk5FZpA1fm",
    "outputId": "96fe4901-8e6e-40bf-d970-e1f04b758d49"
   },
   "outputs": [
    {
     "name": "stdout",
     "output_type": "stream",
     "text": [
      "0      Bob\n",
      "1    Alice\n",
      "2      Tom\n",
      "3      Tim\n",
      "4     Lisa\n",
      "Name: Name, dtype: object\n"
     ]
    }
   ],
   "source": [
    "print(df['Name'])"
   ]
  },
  {
   "cell_type": "code",
   "execution_count": null,
   "metadata": {
    "colab": {
     "base_uri": "https://localhost:8080/"
    },
    "executionInfo": {
     "elapsed": 348,
     "status": "ok",
     "timestamp": 1651599723635,
     "user": {
      "displayName": "Thanachart Ritbumroong",
      "userId": "18414212507793256437"
     },
     "user_tz": -420
    },
    "id": "nNKPg9tgA5UR",
    "outputId": "5261f4f3-7cb6-4b3d-8aee-5e7f4e070cbd"
   },
   "outputs": [
    {
     "name": "stdout",
     "output_type": "stream",
     "text": [
      "    Name  Age\n",
      "0    Bob   16\n",
      "1  Alice   15\n",
      "2    Tom   14\n",
      "3    Tim   17\n",
      "4   Lisa   16\n"
     ]
    }
   ],
   "source": [
    "print(df[['Name','Age']])"
   ]
  },
  {
   "cell_type": "markdown",
   "metadata": {
    "id": "Ny0uKgkjBTs0"
   },
   "source": [
    "### แสดงผลเฉพาะ Row ที่ต้องการ ตามเงื่อนไขที่ระบุ"
   ]
  },
  {
   "cell_type": "code",
   "execution_count": null,
   "metadata": {
    "colab": {
     "base_uri": "https://localhost:8080/",
     "height": 112
    },
    "executionInfo": {
     "elapsed": 321,
     "status": "ok",
     "timestamp": 1651599986365,
     "user": {
      "displayName": "Thanachart Ritbumroong",
      "userId": "18414212507793256437"
     },
     "user_tz": -420
    },
    "id": "CV5SS6GwB2wT",
    "outputId": "aac70cb4-1fe7-4e42-a43e-1d99f8de1f6d"
   },
   "outputs": [
    {
     "data": {
      "text/html": [
       "\n",
       "  <div id=\"df-1c42e445-d18d-45ef-b863-cc852e4e0046\">\n",
       "    <div class=\"colab-df-container\">\n",
       "      <div>\n",
       "<style scoped>\n",
       "    .dataframe tbody tr th:only-of-type {\n",
       "        vertical-align: middle;\n",
       "    }\n",
       "\n",
       "    .dataframe tbody tr th {\n",
       "        vertical-align: top;\n",
       "    }\n",
       "\n",
       "    .dataframe thead th {\n",
       "        text-align: right;\n",
       "    }\n",
       "</style>\n",
       "<table border=\"1\" class=\"dataframe\">\n",
       "  <thead>\n",
       "    <tr style=\"text-align: right;\">\n",
       "      <th></th>\n",
       "      <th>ID</th>\n",
       "      <th>Name</th>\n",
       "      <th>Gender</th>\n",
       "      <th>Hometown</th>\n",
       "      <th>Age</th>\n",
       "      <th>Scores</th>\n",
       "    </tr>\n",
       "  </thead>\n",
       "  <tbody>\n",
       "    <tr>\n",
       "      <th>0</th>\n",
       "      <td>1</td>\n",
       "      <td>Bob</td>\n",
       "      <td>Male</td>\n",
       "      <td>Bangkok</td>\n",
       "      <td>16</td>\n",
       "      <td>90</td>\n",
       "    </tr>\n",
       "    <tr>\n",
       "      <th>4</th>\n",
       "      <td>5</td>\n",
       "      <td>Lisa</td>\n",
       "      <td>Female</td>\n",
       "      <td>Loei</td>\n",
       "      <td>16</td>\n",
       "      <td>88</td>\n",
       "    </tr>\n",
       "  </tbody>\n",
       "</table>\n",
       "</div>\n",
       "      <button class=\"colab-df-convert\" onclick=\"convertToInteractive('df-1c42e445-d18d-45ef-b863-cc852e4e0046')\"\n",
       "              title=\"Convert this dataframe to an interactive table.\"\n",
       "              style=\"display:none;\">\n",
       "        \n",
       "  <svg xmlns=\"http://www.w3.org/2000/svg\" height=\"24px\"viewBox=\"0 0 24 24\"\n",
       "       width=\"24px\">\n",
       "    <path d=\"M0 0h24v24H0V0z\" fill=\"none\"/>\n",
       "    <path d=\"M18.56 5.44l.94 2.06.94-2.06 2.06-.94-2.06-.94-.94-2.06-.94 2.06-2.06.94zm-11 1L8.5 8.5l.94-2.06 2.06-.94-2.06-.94L8.5 2.5l-.94 2.06-2.06.94zm10 10l.94 2.06.94-2.06 2.06-.94-2.06-.94-.94-2.06-.94 2.06-2.06.94z\"/><path d=\"M17.41 7.96l-1.37-1.37c-.4-.4-.92-.59-1.43-.59-.52 0-1.04.2-1.43.59L10.3 9.45l-7.72 7.72c-.78.78-.78 2.05 0 2.83L4 21.41c.39.39.9.59 1.41.59.51 0 1.02-.2 1.41-.59l7.78-7.78 2.81-2.81c.8-.78.8-2.07 0-2.86zM5.41 20L4 18.59l7.72-7.72 1.47 1.35L5.41 20z\"/>\n",
       "  </svg>\n",
       "      </button>\n",
       "      \n",
       "  <style>\n",
       "    .colab-df-container {\n",
       "      display:flex;\n",
       "      flex-wrap:wrap;\n",
       "      gap: 12px;\n",
       "    }\n",
       "\n",
       "    .colab-df-convert {\n",
       "      background-color: #E8F0FE;\n",
       "      border: none;\n",
       "      border-radius: 50%;\n",
       "      cursor: pointer;\n",
       "      display: none;\n",
       "      fill: #1967D2;\n",
       "      height: 32px;\n",
       "      padding: 0 0 0 0;\n",
       "      width: 32px;\n",
       "    }\n",
       "\n",
       "    .colab-df-convert:hover {\n",
       "      background-color: #E2EBFA;\n",
       "      box-shadow: 0px 1px 2px rgba(60, 64, 67, 0.3), 0px 1px 3px 1px rgba(60, 64, 67, 0.15);\n",
       "      fill: #174EA6;\n",
       "    }\n",
       "\n",
       "    [theme=dark] .colab-df-convert {\n",
       "      background-color: #3B4455;\n",
       "      fill: #D2E3FC;\n",
       "    }\n",
       "\n",
       "    [theme=dark] .colab-df-convert:hover {\n",
       "      background-color: #434B5C;\n",
       "      box-shadow: 0px 1px 3px 1px rgba(0, 0, 0, 0.15);\n",
       "      filter: drop-shadow(0px 1px 2px rgba(0, 0, 0, 0.3));\n",
       "      fill: #FFFFFF;\n",
       "    }\n",
       "  </style>\n",
       "\n",
       "      <script>\n",
       "        const buttonEl =\n",
       "          document.querySelector('#df-1c42e445-d18d-45ef-b863-cc852e4e0046 button.colab-df-convert');\n",
       "        buttonEl.style.display =\n",
       "          google.colab.kernel.accessAllowed ? 'block' : 'none';\n",
       "\n",
       "        async function convertToInteractive(key) {\n",
       "          const element = document.querySelector('#df-1c42e445-d18d-45ef-b863-cc852e4e0046');\n",
       "          const dataTable =\n",
       "            await google.colab.kernel.invokeFunction('convertToInteractive',\n",
       "                                                     [key], {});\n",
       "          if (!dataTable) return;\n",
       "\n",
       "          const docLinkHtml = 'Like what you see? Visit the ' +\n",
       "            '<a target=\"_blank\" href=https://colab.research.google.com/notebooks/data_table.ipynb>data table notebook</a>'\n",
       "            + ' to learn more about interactive tables.';\n",
       "          element.innerHTML = '';\n",
       "          dataTable['output_type'] = 'display_data';\n",
       "          await google.colab.output.renderOutput(dataTable, element);\n",
       "          const docLink = document.createElement('div');\n",
       "          docLink.innerHTML = docLinkHtml;\n",
       "          element.appendChild(docLink);\n",
       "        }\n",
       "      </script>\n",
       "    </div>\n",
       "  </div>\n",
       "  "
      ],
      "text/plain": [
       "   ID  Name  Gender Hometown  Age  Scores\n",
       "0   1   Bob    Male  Bangkok   16      90\n",
       "4   5  Lisa  Female     Loei   16      88"
      ]
     },
     "execution_count": 85,
     "metadata": {},
     "output_type": "execute_result"
    }
   ],
   "source": [
    "# เงื่อนไขเดียว\n",
    "\n",
    "df[df['Age'] == 16]"
   ]
  },
  {
   "cell_type": "code",
   "execution_count": null,
   "metadata": {
    "colab": {
     "base_uri": "https://localhost:8080/",
     "height": 81
    },
    "executionInfo": {
     "elapsed": 344,
     "status": "ok",
     "timestamp": 1651600100822,
     "user": {
      "displayName": "Thanachart Ritbumroong",
      "userId": "18414212507793256437"
     },
     "user_tz": -420
    },
    "id": "XoI6FmshCGBM",
    "outputId": "84492be7-30c0-417a-9fd3-b7a56f2b4ab9"
   },
   "outputs": [
    {
     "data": {
      "text/html": [
       "\n",
       "  <div id=\"df-cfd68da0-d4f4-4ff7-a9c0-d2037431958c\">\n",
       "    <div class=\"colab-df-container\">\n",
       "      <div>\n",
       "<style scoped>\n",
       "    .dataframe tbody tr th:only-of-type {\n",
       "        vertical-align: middle;\n",
       "    }\n",
       "\n",
       "    .dataframe tbody tr th {\n",
       "        vertical-align: top;\n",
       "    }\n",
       "\n",
       "    .dataframe thead th {\n",
       "        text-align: right;\n",
       "    }\n",
       "</style>\n",
       "<table border=\"1\" class=\"dataframe\">\n",
       "  <thead>\n",
       "    <tr style=\"text-align: right;\">\n",
       "      <th></th>\n",
       "      <th>ID</th>\n",
       "      <th>Name</th>\n",
       "      <th>Gender</th>\n",
       "      <th>Hometown</th>\n",
       "      <th>Age</th>\n",
       "      <th>Scores</th>\n",
       "    </tr>\n",
       "  </thead>\n",
       "  <tbody>\n",
       "    <tr>\n",
       "      <th>0</th>\n",
       "      <td>1</td>\n",
       "      <td>Bob</td>\n",
       "      <td>Male</td>\n",
       "      <td>Bangkok</td>\n",
       "      <td>16</td>\n",
       "      <td>90</td>\n",
       "    </tr>\n",
       "  </tbody>\n",
       "</table>\n",
       "</div>\n",
       "      <button class=\"colab-df-convert\" onclick=\"convertToInteractive('df-cfd68da0-d4f4-4ff7-a9c0-d2037431958c')\"\n",
       "              title=\"Convert this dataframe to an interactive table.\"\n",
       "              style=\"display:none;\">\n",
       "        \n",
       "  <svg xmlns=\"http://www.w3.org/2000/svg\" height=\"24px\"viewBox=\"0 0 24 24\"\n",
       "       width=\"24px\">\n",
       "    <path d=\"M0 0h24v24H0V0z\" fill=\"none\"/>\n",
       "    <path d=\"M18.56 5.44l.94 2.06.94-2.06 2.06-.94-2.06-.94-.94-2.06-.94 2.06-2.06.94zm-11 1L8.5 8.5l.94-2.06 2.06-.94-2.06-.94L8.5 2.5l-.94 2.06-2.06.94zm10 10l.94 2.06.94-2.06 2.06-.94-2.06-.94-.94-2.06-.94 2.06-2.06.94z\"/><path d=\"M17.41 7.96l-1.37-1.37c-.4-.4-.92-.59-1.43-.59-.52 0-1.04.2-1.43.59L10.3 9.45l-7.72 7.72c-.78.78-.78 2.05 0 2.83L4 21.41c.39.39.9.59 1.41.59.51 0 1.02-.2 1.41-.59l7.78-7.78 2.81-2.81c.8-.78.8-2.07 0-2.86zM5.41 20L4 18.59l7.72-7.72 1.47 1.35L5.41 20z\"/>\n",
       "  </svg>\n",
       "      </button>\n",
       "      \n",
       "  <style>\n",
       "    .colab-df-container {\n",
       "      display:flex;\n",
       "      flex-wrap:wrap;\n",
       "      gap: 12px;\n",
       "    }\n",
       "\n",
       "    .colab-df-convert {\n",
       "      background-color: #E8F0FE;\n",
       "      border: none;\n",
       "      border-radius: 50%;\n",
       "      cursor: pointer;\n",
       "      display: none;\n",
       "      fill: #1967D2;\n",
       "      height: 32px;\n",
       "      padding: 0 0 0 0;\n",
       "      width: 32px;\n",
       "    }\n",
       "\n",
       "    .colab-df-convert:hover {\n",
       "      background-color: #E2EBFA;\n",
       "      box-shadow: 0px 1px 2px rgba(60, 64, 67, 0.3), 0px 1px 3px 1px rgba(60, 64, 67, 0.15);\n",
       "      fill: #174EA6;\n",
       "    }\n",
       "\n",
       "    [theme=dark] .colab-df-convert {\n",
       "      background-color: #3B4455;\n",
       "      fill: #D2E3FC;\n",
       "    }\n",
       "\n",
       "    [theme=dark] .colab-df-convert:hover {\n",
       "      background-color: #434B5C;\n",
       "      box-shadow: 0px 1px 3px 1px rgba(0, 0, 0, 0.15);\n",
       "      filter: drop-shadow(0px 1px 2px rgba(0, 0, 0, 0.3));\n",
       "      fill: #FFFFFF;\n",
       "    }\n",
       "  </style>\n",
       "\n",
       "      <script>\n",
       "        const buttonEl =\n",
       "          document.querySelector('#df-cfd68da0-d4f4-4ff7-a9c0-d2037431958c button.colab-df-convert');\n",
       "        buttonEl.style.display =\n",
       "          google.colab.kernel.accessAllowed ? 'block' : 'none';\n",
       "\n",
       "        async function convertToInteractive(key) {\n",
       "          const element = document.querySelector('#df-cfd68da0-d4f4-4ff7-a9c0-d2037431958c');\n",
       "          const dataTable =\n",
       "            await google.colab.kernel.invokeFunction('convertToInteractive',\n",
       "                                                     [key], {});\n",
       "          if (!dataTable) return;\n",
       "\n",
       "          const docLinkHtml = 'Like what you see? Visit the ' +\n",
       "            '<a target=\"_blank\" href=https://colab.research.google.com/notebooks/data_table.ipynb>data table notebook</a>'\n",
       "            + ' to learn more about interactive tables.';\n",
       "          element.innerHTML = '';\n",
       "          dataTable['output_type'] = 'display_data';\n",
       "          await google.colab.output.renderOutput(dataTable, element);\n",
       "          const docLink = document.createElement('div');\n",
       "          docLink.innerHTML = docLinkHtml;\n",
       "          element.appendChild(docLink);\n",
       "        }\n",
       "      </script>\n",
       "    </div>\n",
       "  </div>\n",
       "  "
      ],
      "text/plain": [
       "   ID Name Gender Hometown  Age  Scores\n",
       "0   1  Bob   Male  Bangkok   16      90"
      ]
     },
     "execution_count": 89,
     "metadata": {},
     "output_type": "execute_result"
    }
   ],
   "source": [
    "# หลายเงื่อนไข AND\n",
    "\n",
    "df[(df['Age'] == 16) & (df['Scores'] >= 90)]"
   ]
  },
  {
   "cell_type": "code",
   "execution_count": null,
   "metadata": {
    "colab": {
     "base_uri": "https://localhost:8080/",
     "height": 143
    },
    "executionInfo": {
     "elapsed": 345,
     "status": "ok",
     "timestamp": 1651600112859,
     "user": {
      "displayName": "Thanachart Ritbumroong",
      "userId": "18414212507793256437"
     },
     "user_tz": -420
    },
    "id": "rZAKHwOlCaqX",
    "outputId": "767408cf-7501-408b-9e4c-b3fd30711c27"
   },
   "outputs": [
    {
     "data": {
      "text/html": [
       "\n",
       "  <div id=\"df-be2d3dc1-2a30-46dd-865f-952c496fedb1\">\n",
       "    <div class=\"colab-df-container\">\n",
       "      <div>\n",
       "<style scoped>\n",
       "    .dataframe tbody tr th:only-of-type {\n",
       "        vertical-align: middle;\n",
       "    }\n",
       "\n",
       "    .dataframe tbody tr th {\n",
       "        vertical-align: top;\n",
       "    }\n",
       "\n",
       "    .dataframe thead th {\n",
       "        text-align: right;\n",
       "    }\n",
       "</style>\n",
       "<table border=\"1\" class=\"dataframe\">\n",
       "  <thead>\n",
       "    <tr style=\"text-align: right;\">\n",
       "      <th></th>\n",
       "      <th>ID</th>\n",
       "      <th>Name</th>\n",
       "      <th>Gender</th>\n",
       "      <th>Hometown</th>\n",
       "      <th>Age</th>\n",
       "      <th>Scores</th>\n",
       "    </tr>\n",
       "  </thead>\n",
       "  <tbody>\n",
       "    <tr>\n",
       "      <th>0</th>\n",
       "      <td>1</td>\n",
       "      <td>Bob</td>\n",
       "      <td>Male</td>\n",
       "      <td>Bangkok</td>\n",
       "      <td>16</td>\n",
       "      <td>90</td>\n",
       "    </tr>\n",
       "    <tr>\n",
       "      <th>3</th>\n",
       "      <td>4</td>\n",
       "      <td>Tim</td>\n",
       "      <td>Male</td>\n",
       "      <td>Buriram</td>\n",
       "      <td>17</td>\n",
       "      <td>92</td>\n",
       "    </tr>\n",
       "    <tr>\n",
       "      <th>4</th>\n",
       "      <td>5</td>\n",
       "      <td>Lisa</td>\n",
       "      <td>Female</td>\n",
       "      <td>Loei</td>\n",
       "      <td>16</td>\n",
       "      <td>88</td>\n",
       "    </tr>\n",
       "  </tbody>\n",
       "</table>\n",
       "</div>\n",
       "      <button class=\"colab-df-convert\" onclick=\"convertToInteractive('df-be2d3dc1-2a30-46dd-865f-952c496fedb1')\"\n",
       "              title=\"Convert this dataframe to an interactive table.\"\n",
       "              style=\"display:none;\">\n",
       "        \n",
       "  <svg xmlns=\"http://www.w3.org/2000/svg\" height=\"24px\"viewBox=\"0 0 24 24\"\n",
       "       width=\"24px\">\n",
       "    <path d=\"M0 0h24v24H0V0z\" fill=\"none\"/>\n",
       "    <path d=\"M18.56 5.44l.94 2.06.94-2.06 2.06-.94-2.06-.94-.94-2.06-.94 2.06-2.06.94zm-11 1L8.5 8.5l.94-2.06 2.06-.94-2.06-.94L8.5 2.5l-.94 2.06-2.06.94zm10 10l.94 2.06.94-2.06 2.06-.94-2.06-.94-.94-2.06-.94 2.06-2.06.94z\"/><path d=\"M17.41 7.96l-1.37-1.37c-.4-.4-.92-.59-1.43-.59-.52 0-1.04.2-1.43.59L10.3 9.45l-7.72 7.72c-.78.78-.78 2.05 0 2.83L4 21.41c.39.39.9.59 1.41.59.51 0 1.02-.2 1.41-.59l7.78-7.78 2.81-2.81c.8-.78.8-2.07 0-2.86zM5.41 20L4 18.59l7.72-7.72 1.47 1.35L5.41 20z\"/>\n",
       "  </svg>\n",
       "      </button>\n",
       "      \n",
       "  <style>\n",
       "    .colab-df-container {\n",
       "      display:flex;\n",
       "      flex-wrap:wrap;\n",
       "      gap: 12px;\n",
       "    }\n",
       "\n",
       "    .colab-df-convert {\n",
       "      background-color: #E8F0FE;\n",
       "      border: none;\n",
       "      border-radius: 50%;\n",
       "      cursor: pointer;\n",
       "      display: none;\n",
       "      fill: #1967D2;\n",
       "      height: 32px;\n",
       "      padding: 0 0 0 0;\n",
       "      width: 32px;\n",
       "    }\n",
       "\n",
       "    .colab-df-convert:hover {\n",
       "      background-color: #E2EBFA;\n",
       "      box-shadow: 0px 1px 2px rgba(60, 64, 67, 0.3), 0px 1px 3px 1px rgba(60, 64, 67, 0.15);\n",
       "      fill: #174EA6;\n",
       "    }\n",
       "\n",
       "    [theme=dark] .colab-df-convert {\n",
       "      background-color: #3B4455;\n",
       "      fill: #D2E3FC;\n",
       "    }\n",
       "\n",
       "    [theme=dark] .colab-df-convert:hover {\n",
       "      background-color: #434B5C;\n",
       "      box-shadow: 0px 1px 3px 1px rgba(0, 0, 0, 0.15);\n",
       "      filter: drop-shadow(0px 1px 2px rgba(0, 0, 0, 0.3));\n",
       "      fill: #FFFFFF;\n",
       "    }\n",
       "  </style>\n",
       "\n",
       "      <script>\n",
       "        const buttonEl =\n",
       "          document.querySelector('#df-be2d3dc1-2a30-46dd-865f-952c496fedb1 button.colab-df-convert');\n",
       "        buttonEl.style.display =\n",
       "          google.colab.kernel.accessAllowed ? 'block' : 'none';\n",
       "\n",
       "        async function convertToInteractive(key) {\n",
       "          const element = document.querySelector('#df-be2d3dc1-2a30-46dd-865f-952c496fedb1');\n",
       "          const dataTable =\n",
       "            await google.colab.kernel.invokeFunction('convertToInteractive',\n",
       "                                                     [key], {});\n",
       "          if (!dataTable) return;\n",
       "\n",
       "          const docLinkHtml = 'Like what you see? Visit the ' +\n",
       "            '<a target=\"_blank\" href=https://colab.research.google.com/notebooks/data_table.ipynb>data table notebook</a>'\n",
       "            + ' to learn more about interactive tables.';\n",
       "          element.innerHTML = '';\n",
       "          dataTable['output_type'] = 'display_data';\n",
       "          await google.colab.output.renderOutput(dataTable, element);\n",
       "          const docLink = document.createElement('div');\n",
       "          docLink.innerHTML = docLinkHtml;\n",
       "          element.appendChild(docLink);\n",
       "        }\n",
       "      </script>\n",
       "    </div>\n",
       "  </div>\n",
       "  "
      ],
      "text/plain": [
       "   ID  Name  Gender Hometown  Age  Scores\n",
       "0   1   Bob    Male  Bangkok   16      90\n",
       "3   4   Tim    Male  Buriram   17      92\n",
       "4   5  Lisa  Female     Loei   16      88"
      ]
     },
     "execution_count": 90,
     "metadata": {},
     "output_type": "execute_result"
    }
   ],
   "source": [
    "# หลายเงื่อนไข OR\n",
    "\n",
    "df[(df['Age'] == 16) | (df['Scores'] >= 90)]"
   ]
  },
  {
   "cell_type": "markdown",
   "metadata": {
    "id": "knzG7wGxCfX5"
   },
   "source": [
    "### แสดงผลเฉพาะ Column และ Row ที่ต้องการโดยการระบุตำแหน่ง"
   ]
  },
  {
   "cell_type": "code",
   "execution_count": null,
   "metadata": {
    "colab": {
     "base_uri": "https://localhost:8080/",
     "height": 112
    },
    "executionInfo": {
     "elapsed": 800,
     "status": "ok",
     "timestamp": 1651599858979,
     "user": {
      "displayName": "Thanachart Ritbumroong",
      "userId": "18414212507793256437"
     },
     "user_tz": -420
    },
    "id": "0i3NooI0BVd7",
    "outputId": "4974837e-85c0-47a5-9063-6475a233bf12"
   },
   "outputs": [
    {
     "data": {
      "text/html": [
       "\n",
       "  <div id=\"df-0235d89d-02e0-48f2-b7d9-8ee451243d81\">\n",
       "    <div class=\"colab-df-container\">\n",
       "      <div>\n",
       "<style scoped>\n",
       "    .dataframe tbody tr th:only-of-type {\n",
       "        vertical-align: middle;\n",
       "    }\n",
       "\n",
       "    .dataframe tbody tr th {\n",
       "        vertical-align: top;\n",
       "    }\n",
       "\n",
       "    .dataframe thead th {\n",
       "        text-align: right;\n",
       "    }\n",
       "</style>\n",
       "<table border=\"1\" class=\"dataframe\">\n",
       "  <thead>\n",
       "    <tr style=\"text-align: right;\">\n",
       "      <th></th>\n",
       "      <th>ID</th>\n",
       "      <th>Name</th>\n",
       "    </tr>\n",
       "  </thead>\n",
       "  <tbody>\n",
       "    <tr>\n",
       "      <th>1</th>\n",
       "      <td>2</td>\n",
       "      <td>Alice</td>\n",
       "    </tr>\n",
       "    <tr>\n",
       "      <th>2</th>\n",
       "      <td>3</td>\n",
       "      <td>Tom</td>\n",
       "    </tr>\n",
       "  </tbody>\n",
       "</table>\n",
       "</div>\n",
       "      <button class=\"colab-df-convert\" onclick=\"convertToInteractive('df-0235d89d-02e0-48f2-b7d9-8ee451243d81')\"\n",
       "              title=\"Convert this dataframe to an interactive table.\"\n",
       "              style=\"display:none;\">\n",
       "        \n",
       "  <svg xmlns=\"http://www.w3.org/2000/svg\" height=\"24px\"viewBox=\"0 0 24 24\"\n",
       "       width=\"24px\">\n",
       "    <path d=\"M0 0h24v24H0V0z\" fill=\"none\"/>\n",
       "    <path d=\"M18.56 5.44l.94 2.06.94-2.06 2.06-.94-2.06-.94-.94-2.06-.94 2.06-2.06.94zm-11 1L8.5 8.5l.94-2.06 2.06-.94-2.06-.94L8.5 2.5l-.94 2.06-2.06.94zm10 10l.94 2.06.94-2.06 2.06-.94-2.06-.94-.94-2.06-.94 2.06-2.06.94z\"/><path d=\"M17.41 7.96l-1.37-1.37c-.4-.4-.92-.59-1.43-.59-.52 0-1.04.2-1.43.59L10.3 9.45l-7.72 7.72c-.78.78-.78 2.05 0 2.83L4 21.41c.39.39.9.59 1.41.59.51 0 1.02-.2 1.41-.59l7.78-7.78 2.81-2.81c.8-.78.8-2.07 0-2.86zM5.41 20L4 18.59l7.72-7.72 1.47 1.35L5.41 20z\"/>\n",
       "  </svg>\n",
       "      </button>\n",
       "      \n",
       "  <style>\n",
       "    .colab-df-container {\n",
       "      display:flex;\n",
       "      flex-wrap:wrap;\n",
       "      gap: 12px;\n",
       "    }\n",
       "\n",
       "    .colab-df-convert {\n",
       "      background-color: #E8F0FE;\n",
       "      border: none;\n",
       "      border-radius: 50%;\n",
       "      cursor: pointer;\n",
       "      display: none;\n",
       "      fill: #1967D2;\n",
       "      height: 32px;\n",
       "      padding: 0 0 0 0;\n",
       "      width: 32px;\n",
       "    }\n",
       "\n",
       "    .colab-df-convert:hover {\n",
       "      background-color: #E2EBFA;\n",
       "      box-shadow: 0px 1px 2px rgba(60, 64, 67, 0.3), 0px 1px 3px 1px rgba(60, 64, 67, 0.15);\n",
       "      fill: #174EA6;\n",
       "    }\n",
       "\n",
       "    [theme=dark] .colab-df-convert {\n",
       "      background-color: #3B4455;\n",
       "      fill: #D2E3FC;\n",
       "    }\n",
       "\n",
       "    [theme=dark] .colab-df-convert:hover {\n",
       "      background-color: #434B5C;\n",
       "      box-shadow: 0px 1px 3px 1px rgba(0, 0, 0, 0.15);\n",
       "      filter: drop-shadow(0px 1px 2px rgba(0, 0, 0, 0.3));\n",
       "      fill: #FFFFFF;\n",
       "    }\n",
       "  </style>\n",
       "\n",
       "      <script>\n",
       "        const buttonEl =\n",
       "          document.querySelector('#df-0235d89d-02e0-48f2-b7d9-8ee451243d81 button.colab-df-convert');\n",
       "        buttonEl.style.display =\n",
       "          google.colab.kernel.accessAllowed ? 'block' : 'none';\n",
       "\n",
       "        async function convertToInteractive(key) {\n",
       "          const element = document.querySelector('#df-0235d89d-02e0-48f2-b7d9-8ee451243d81');\n",
       "          const dataTable =\n",
       "            await google.colab.kernel.invokeFunction('convertToInteractive',\n",
       "                                                     [key], {});\n",
       "          if (!dataTable) return;\n",
       "\n",
       "          const docLinkHtml = 'Like what you see? Visit the ' +\n",
       "            '<a target=\"_blank\" href=https://colab.research.google.com/notebooks/data_table.ipynb>data table notebook</a>'\n",
       "            + ' to learn more about interactive tables.';\n",
       "          element.innerHTML = '';\n",
       "          dataTable['output_type'] = 'display_data';\n",
       "          await google.colab.output.renderOutput(dataTable, element);\n",
       "          const docLink = document.createElement('div');\n",
       "          docLink.innerHTML = docLinkHtml;\n",
       "          element.appendChild(docLink);\n",
       "        }\n",
       "      </script>\n",
       "    </div>\n",
       "  </div>\n",
       "  "
      ],
      "text/plain": [
       "   ID   Name\n",
       "1   2  Alice\n",
       "2   3    Tom"
      ]
     },
     "execution_count": 78,
     "metadata": {},
     "output_type": "execute_result"
    }
   ],
   "source": [
    "df.iloc[1:3, :2]"
   ]
  },
  {
   "cell_type": "code",
   "execution_count": null,
   "metadata": {
    "colab": {
     "base_uri": "https://localhost:8080/",
     "height": 112
    },
    "executionInfo": {
     "elapsed": 325,
     "status": "ok",
     "timestamp": 1651599949351,
     "user": {
      "displayName": "Thanachart Ritbumroong",
      "userId": "18414212507793256437"
     },
     "user_tz": -420
    },
    "id": "XF7oCkULBekW",
    "outputId": "323d6038-881e-48f2-f8bd-6ff65b706ec8"
   },
   "outputs": [
    {
     "data": {
      "text/html": [
       "\n",
       "  <div id=\"df-bc35561a-a335-4172-990a-010ca788ba4e\">\n",
       "    <div class=\"colab-df-container\">\n",
       "      <div>\n",
       "<style scoped>\n",
       "    .dataframe tbody tr th:only-of-type {\n",
       "        vertical-align: middle;\n",
       "    }\n",
       "\n",
       "    .dataframe tbody tr th {\n",
       "        vertical-align: top;\n",
       "    }\n",
       "\n",
       "    .dataframe thead th {\n",
       "        text-align: right;\n",
       "    }\n",
       "</style>\n",
       "<table border=\"1\" class=\"dataframe\">\n",
       "  <thead>\n",
       "    <tr style=\"text-align: right;\">\n",
       "      <th></th>\n",
       "      <th>Gender</th>\n",
       "      <th>Hometown</th>\n",
       "      <th>Age</th>\n",
       "      <th>Scores</th>\n",
       "    </tr>\n",
       "  </thead>\n",
       "  <tbody>\n",
       "    <tr>\n",
       "      <th>2</th>\n",
       "      <td>Male</td>\n",
       "      <td>Khonkaen</td>\n",
       "      <td>14</td>\n",
       "      <td>78</td>\n",
       "    </tr>\n",
       "    <tr>\n",
       "      <th>3</th>\n",
       "      <td>Male</td>\n",
       "      <td>Buriram</td>\n",
       "      <td>17</td>\n",
       "      <td>92</td>\n",
       "    </tr>\n",
       "  </tbody>\n",
       "</table>\n",
       "</div>\n",
       "      <button class=\"colab-df-convert\" onclick=\"convertToInteractive('df-bc35561a-a335-4172-990a-010ca788ba4e')\"\n",
       "              title=\"Convert this dataframe to an interactive table.\"\n",
       "              style=\"display:none;\">\n",
       "        \n",
       "  <svg xmlns=\"http://www.w3.org/2000/svg\" height=\"24px\"viewBox=\"0 0 24 24\"\n",
       "       width=\"24px\">\n",
       "    <path d=\"M0 0h24v24H0V0z\" fill=\"none\"/>\n",
       "    <path d=\"M18.56 5.44l.94 2.06.94-2.06 2.06-.94-2.06-.94-.94-2.06-.94 2.06-2.06.94zm-11 1L8.5 8.5l.94-2.06 2.06-.94-2.06-.94L8.5 2.5l-.94 2.06-2.06.94zm10 10l.94 2.06.94-2.06 2.06-.94-2.06-.94-.94-2.06-.94 2.06-2.06.94z\"/><path d=\"M17.41 7.96l-1.37-1.37c-.4-.4-.92-.59-1.43-.59-.52 0-1.04.2-1.43.59L10.3 9.45l-7.72 7.72c-.78.78-.78 2.05 0 2.83L4 21.41c.39.39.9.59 1.41.59.51 0 1.02-.2 1.41-.59l7.78-7.78 2.81-2.81c.8-.78.8-2.07 0-2.86zM5.41 20L4 18.59l7.72-7.72 1.47 1.35L5.41 20z\"/>\n",
       "  </svg>\n",
       "      </button>\n",
       "      \n",
       "  <style>\n",
       "    .colab-df-container {\n",
       "      display:flex;\n",
       "      flex-wrap:wrap;\n",
       "      gap: 12px;\n",
       "    }\n",
       "\n",
       "    .colab-df-convert {\n",
       "      background-color: #E8F0FE;\n",
       "      border: none;\n",
       "      border-radius: 50%;\n",
       "      cursor: pointer;\n",
       "      display: none;\n",
       "      fill: #1967D2;\n",
       "      height: 32px;\n",
       "      padding: 0 0 0 0;\n",
       "      width: 32px;\n",
       "    }\n",
       "\n",
       "    .colab-df-convert:hover {\n",
       "      background-color: #E2EBFA;\n",
       "      box-shadow: 0px 1px 2px rgba(60, 64, 67, 0.3), 0px 1px 3px 1px rgba(60, 64, 67, 0.15);\n",
       "      fill: #174EA6;\n",
       "    }\n",
       "\n",
       "    [theme=dark] .colab-df-convert {\n",
       "      background-color: #3B4455;\n",
       "      fill: #D2E3FC;\n",
       "    }\n",
       "\n",
       "    [theme=dark] .colab-df-convert:hover {\n",
       "      background-color: #434B5C;\n",
       "      box-shadow: 0px 1px 3px 1px rgba(0, 0, 0, 0.15);\n",
       "      filter: drop-shadow(0px 1px 2px rgba(0, 0, 0, 0.3));\n",
       "      fill: #FFFFFF;\n",
       "    }\n",
       "  </style>\n",
       "\n",
       "      <script>\n",
       "        const buttonEl =\n",
       "          document.querySelector('#df-bc35561a-a335-4172-990a-010ca788ba4e button.colab-df-convert');\n",
       "        buttonEl.style.display =\n",
       "          google.colab.kernel.accessAllowed ? 'block' : 'none';\n",
       "\n",
       "        async function convertToInteractive(key) {\n",
       "          const element = document.querySelector('#df-bc35561a-a335-4172-990a-010ca788ba4e');\n",
       "          const dataTable =\n",
       "            await google.colab.kernel.invokeFunction('convertToInteractive',\n",
       "                                                     [key], {});\n",
       "          if (!dataTable) return;\n",
       "\n",
       "          const docLinkHtml = 'Like what you see? Visit the ' +\n",
       "            '<a target=\"_blank\" href=https://colab.research.google.com/notebooks/data_table.ipynb>data table notebook</a>'\n",
       "            + ' to learn more about interactive tables.';\n",
       "          element.innerHTML = '';\n",
       "          dataTable['output_type'] = 'display_data';\n",
       "          await google.colab.output.renderOutput(dataTable, element);\n",
       "          const docLink = document.createElement('div');\n",
       "          docLink.innerHTML = docLinkHtml;\n",
       "          element.appendChild(docLink);\n",
       "        }\n",
       "      </script>\n",
       "    </div>\n",
       "  </div>\n",
       "  "
      ],
      "text/plain": [
       "  Gender  Hometown  Age  Scores\n",
       "2   Male  Khonkaen   14      78\n",
       "3   Male   Buriram   17      92"
      ]
     },
     "execution_count": 83,
     "metadata": {},
     "output_type": "execute_result"
    }
   ],
   "source": [
    "df.iloc[2:-1, 2:]"
   ]
  },
  {
   "cell_type": "markdown",
   "metadata": {
    "id": "_AzuYIm9HZib"
   },
   "source": [
    "### แสดงประเภทข้อมูล"
   ]
  },
  {
   "cell_type": "code",
   "execution_count": null,
   "metadata": {
    "colab": {
     "base_uri": "https://localhost:8080/"
    },
    "executionInfo": {
     "elapsed": 2,
     "status": "ok",
     "timestamp": 1651601459721,
     "user": {
      "displayName": "Thanachart Ritbumroong",
      "userId": "18414212507793256437"
     },
     "user_tz": -420
    },
    "id": "Ae3qB5dJHiVC",
    "outputId": "ebb136c6-57de-4c6e-c6fe-e8758a5fe87e"
   },
   "outputs": [
    {
     "data": {
      "text/plain": [
       "ID           int64\n",
       "Name        object\n",
       "Gender      object\n",
       "Hometown    object\n",
       "Age          int64\n",
       "Scores       int64\n",
       "dtype: object"
      ]
     },
     "execution_count": 109,
     "metadata": {},
     "output_type": "execute_result"
    }
   ],
   "source": [
    "df.dtypes"
   ]
  },
  {
   "cell_type": "markdown",
   "metadata": {
    "id": "DLjRgkhB0S9u"
   },
   "source": [
    "## Combine Tabular Data"
   ]
  },
  {
   "cell_type": "markdown",
   "metadata": {
    "id": "z90GtTyR0WyY"
   },
   "source": [
    "*   เราสามารถรวมตารางข้อมูล 2 ตารางเข้าด้วยกันได้\n",
    "*   การรวมข้อมูล 2 ตาราง จะทำการอ้างอิงผ่าน ID\n",
    "\n"
   ]
  },
  {
   "cell_type": "markdown",
   "metadata": {
    "id": "oC3apqyl1ZJq"
   },
   "source": [
    "<img src=https://github.com/ai-builders/curriculum/raw/main/images/tabular_images/04.png width=\"750px\">\n",
    "\n",
    "https://pandas.pydata.org/docs/reference/api/pandas.DataFrame.merge.html"
   ]
  },
  {
   "cell_type": "code",
   "execution_count": 6,
   "metadata": {
    "colab": {
     "base_uri": "https://localhost:8080/"
    },
    "executionInfo": {
     "elapsed": 550,
     "status": "ok",
     "timestamp": 1652161191509,
     "user": {
      "displayName": "Thanachart Ritbumroong",
      "userId": "18414212507793256437"
     },
     "user_tz": -420
    },
    "id": "3eKeZgXp0i2c",
    "outputId": "5022cc9c-dea4-41db-a24f-144f5f437c51"
   },
   "outputs": [
    {
     "name": "stdout",
     "output_type": "stream",
     "text": [
      "df1\n",
      "   ID   Name  Gender   Hometown  Age  Scores\n",
      "0   1    Bob    Male    Bangkok   16      90\n",
      "1   2  Alice  Female  Chiangmai   15      84\n",
      "2   3    Tom    Male   Khonkaen   14      78\n",
      "3   4    Tim    Male    Buriram   17      92\n",
      "4   5   Lisa  Female       Loei   16      88\n",
      "\n",
      "df2\n",
      "   ID  TestNo  Rating\n",
      "0   2       1       3\n",
      "1   2       2       5\n",
      "2   3       1       4\n",
      "3   3       2       3\n",
      "4   3       3       5\n",
      "5   4       1       3\n",
      "6   5       1       4\n",
      "7   5       2       5\n",
      "8   6       1       2\n",
      "9   6       2       3\n"
     ]
    }
   ],
   "source": [
    "url1 = 'https://github.com/ai-builders/curriculum/raw/main/data/students.csv'\n",
    "df1 = pd.read_csv(url1)\n",
    "\n",
    "url2 = 'https://github.com/ai-builders/curriculum/raw/main/data/test-ratings.csv'\n",
    "df2 = pd.read_csv(url2)\n",
    "\n",
    "print('df1')\n",
    "print(df1)\n",
    "\n",
    "print('\\ndf2')\n",
    "print(df2)"
   ]
  },
  {
   "cell_type": "markdown",
   "metadata": {
    "id": "tz_zCgU458wN"
   },
   "source": [
    "### **Inner Join**\n",
    "<img src=https://github.com/ai-builders/curriculum/raw/main/images/tabular_images/05.PNG width=\"1000px\">"
   ]
  },
  {
   "cell_type": "code",
   "execution_count": 7,
   "metadata": {
    "colab": {
     "base_uri": "https://localhost:8080/"
    },
    "executionInfo": {
     "elapsed": 357,
     "status": "ok",
     "timestamp": 1652161371390,
     "user": {
      "displayName": "Thanachart Ritbumroong",
      "userId": "18414212507793256437"
     },
     "user_tz": -420
    },
    "id": "uNbBrdsx0v6G",
    "outputId": "85255659-5e8b-4dbe-bea3-020d91adf788"
   },
   "outputs": [
    {
     "name": "stdout",
     "output_type": "stream",
     "text": [
      "   ID   Name  Gender   Hometown  Age  Scores  TestNo  Rating\n",
      "0   2  Alice  Female  Chiangmai   15      84       1       3\n",
      "1   2  Alice  Female  Chiangmai   15      84       2       5\n",
      "2   3    Tom    Male   Khonkaen   14      78       1       4\n",
      "3   3    Tom    Male   Khonkaen   14      78       2       3\n",
      "4   3    Tom    Male   Khonkaen   14      78       3       5\n",
      "5   4    Tim    Male    Buriram   17      92       1       3\n",
      "6   5   Lisa  Female       Loei   16      88       1       4\n",
      "7   5   Lisa  Female       Loei   16      88       2       5\n"
     ]
    }
   ],
   "source": [
    "df_inner_join = df1.merge(df2, left_on='ID', right_on='ID', how='inner')\n",
    "\n",
    "print(df_inner_join)"
   ]
  },
  {
   "cell_type": "markdown",
   "metadata": {
    "id": "vKUwr30a6Oce"
   },
   "source": [
    "### **Left Join**\n",
    "<img src=https://github.com/ai-builders/curriculum/raw/main/images/tabular_images/06.PNG width=\"1000px\">"
   ]
  },
  {
   "cell_type": "code",
   "execution_count": 8,
   "metadata": {
    "colab": {
     "base_uri": "https://localhost:8080/"
    },
    "executionInfo": {
     "elapsed": 338,
     "status": "ok",
     "timestamp": 1652161462581,
     "user": {
      "displayName": "Thanachart Ritbumroong",
      "userId": "18414212507793256437"
     },
     "user_tz": -420
    },
    "id": "owwLK0rO2PtJ",
    "outputId": "9b1be99c-502f-4c96-d137-e888cd061a69"
   },
   "outputs": [
    {
     "name": "stdout",
     "output_type": "stream",
     "text": [
      "   ID   Name  Gender   Hometown  Age  Scores  TestNo  Rating\n",
      "0   1    Bob    Male    Bangkok   16      90     NaN     NaN\n",
      "1   2  Alice  Female  Chiangmai   15      84     1.0     3.0\n",
      "2   2  Alice  Female  Chiangmai   15      84     2.0     5.0\n",
      "3   3    Tom    Male   Khonkaen   14      78     1.0     4.0\n",
      "4   3    Tom    Male   Khonkaen   14      78     2.0     3.0\n",
      "5   3    Tom    Male   Khonkaen   14      78     3.0     5.0\n",
      "6   4    Tim    Male    Buriram   17      92     1.0     3.0\n",
      "7   5   Lisa  Female       Loei   16      88     1.0     4.0\n",
      "8   5   Lisa  Female       Loei   16      88     2.0     5.0\n"
     ]
    }
   ],
   "source": [
    "df_left_join = df1.merge(df2, left_on='ID', right_on='ID', how='left')\n",
    "\n",
    "print(df_left_join)"
   ]
  },
  {
   "cell_type": "markdown",
   "metadata": {
    "id": "H26JQVwj6S_k"
   },
   "source": [
    "### **Right Join**\n",
    "<img src=https://github.com/ai-builders/curriculum/raw/main/images/tabular_images/07.PNG width=\"1000px\">"
   ]
  },
  {
   "cell_type": "code",
   "execution_count": 9,
   "metadata": {
    "colab": {
     "base_uri": "https://localhost:8080/"
    },
    "executionInfo": {
     "elapsed": 343,
     "status": "ok",
     "timestamp": 1652161501657,
     "user": {
      "displayName": "Thanachart Ritbumroong",
      "userId": "18414212507793256437"
     },
     "user_tz": -420
    },
    "id": "d9sF0CRO2QEw",
    "outputId": "9a3d8aef-121b-4aa9-969b-fc8123c0ab04"
   },
   "outputs": [
    {
     "name": "stdout",
     "output_type": "stream",
     "text": [
      "   ID   Name  Gender   Hometown   Age  Scores  TestNo  Rating\n",
      "0   2  Alice  Female  Chiangmai  15.0    84.0       1       3\n",
      "1   2  Alice  Female  Chiangmai  15.0    84.0       2       5\n",
      "2   3    Tom    Male   Khonkaen  14.0    78.0       1       4\n",
      "3   3    Tom    Male   Khonkaen  14.0    78.0       2       3\n",
      "4   3    Tom    Male   Khonkaen  14.0    78.0       3       5\n",
      "5   4    Tim    Male    Buriram  17.0    92.0       1       3\n",
      "6   5   Lisa  Female       Loei  16.0    88.0       1       4\n",
      "7   5   Lisa  Female       Loei  16.0    88.0       2       5\n",
      "8   6    NaN     NaN        NaN   NaN     NaN       1       2\n",
      "9   6    NaN     NaN        NaN   NaN     NaN       2       3\n"
     ]
    }
   ],
   "source": [
    "df_right_join = df1.merge(df2, left_on='ID', right_on='ID', how='right')\n",
    "\n",
    "print(df_right_join)"
   ]
  },
  {
   "cell_type": "markdown",
   "metadata": {
    "id": "BfsNoOjd6V3N"
   },
   "source": [
    "### **Outer Join**\n",
    "<img src=https://github.com/ai-builders/curriculum/raw/main/images/tabular_images/08.PNG width=\"1000px\">"
   ]
  },
  {
   "cell_type": "code",
   "execution_count": 10,
   "metadata": {
    "colab": {
     "base_uri": "https://localhost:8080/"
    },
    "executionInfo": {
     "elapsed": 354,
     "status": "ok",
     "timestamp": 1652161535923,
     "user": {
      "displayName": "Thanachart Ritbumroong",
      "userId": "18414212507793256437"
     },
     "user_tz": -420
    },
    "id": "SMmZn-iV3ZB-",
    "outputId": "f7688ae8-aeb6-4077-b8dd-b91b39a3aaa7"
   },
   "outputs": [
    {
     "name": "stdout",
     "output_type": "stream",
     "text": [
      "    ID   Name  Gender   Hometown   Age  Scores  TestNo  Rating\n",
      "0    1    Bob    Male    Bangkok  16.0    90.0     NaN     NaN\n",
      "1    2  Alice  Female  Chiangmai  15.0    84.0     1.0     3.0\n",
      "2    2  Alice  Female  Chiangmai  15.0    84.0     2.0     5.0\n",
      "3    3    Tom    Male   Khonkaen  14.0    78.0     1.0     4.0\n",
      "4    3    Tom    Male   Khonkaen  14.0    78.0     2.0     3.0\n",
      "5    3    Tom    Male   Khonkaen  14.0    78.0     3.0     5.0\n",
      "6    4    Tim    Male    Buriram  17.0    92.0     1.0     3.0\n",
      "7    5   Lisa  Female       Loei  16.0    88.0     1.0     4.0\n",
      "8    5   Lisa  Female       Loei  16.0    88.0     2.0     5.0\n",
      "9    6    NaN     NaN        NaN   NaN     NaN     1.0     2.0\n",
      "10   6    NaN     NaN        NaN   NaN     NaN     2.0     3.0\n"
     ]
    }
   ],
   "source": [
    "df_outer_join = df1.merge(df2, left_on='ID', right_on='ID', how='outer')\n",
    "\n",
    "print(df_outer_join)"
   ]
  },
  {
   "cell_type": "markdown",
   "metadata": {
    "id": "wLnpJGv76kdi"
   },
   "source": [
    "## Aggregate Tabular Data"
   ]
  },
  {
   "cell_type": "markdown",
   "metadata": {
    "id": "beUR483r72x2"
   },
   "source": [
    "*   Aggregate เป็นขั้นตอนในการประมวลผลรวมข้อมูลหลายๆ แถว ให้เหลือเพียง 1 แถว\n",
    "*   เทคนิคในการประมวลผลรวมนั้น ได้แก่ การหาผลรวม การหาค่าเฉลี่ย การหาค่ามากสุด/น้อยสุด\n",
    "*   ในการประมวลผลรวมนั้น ต้องมีการกำหนดระดับความละเอียดที่ต้องการ\n",
    "\n"
   ]
  },
  {
   "cell_type": "markdown",
   "metadata": {
    "id": "N6DUL7n07ttF"
   },
   "source": [
    "<img src=https://github.com/ai-builders/curriculum/raw/main/images/tabular_images/09.png width=\"750px\">\n",
    "\n",
    "https://pandas.pydata.org/docs/reference/api/pandas.DataFrame.groupby.html"
   ]
  },
  {
   "cell_type": "code",
   "execution_count": 11,
   "metadata": {
    "colab": {
     "base_uri": "https://localhost:8080/",
     "height": 363
    },
    "executionInfo": {
     "elapsed": 337,
     "status": "ok",
     "timestamp": 1652161887629,
     "user": {
      "displayName": "Thanachart Ritbumroong",
      "userId": "18414212507793256437"
     },
     "user_tz": -420
    },
    "id": "qFDEAK2LhZ6F",
    "outputId": "9eded3bc-c158-4e1c-8ac9-4fb75c4deb01"
   },
   "outputs": [
    {
     "data": {
      "text/html": [
       "\n",
       "  <div id=\"df-fd14bcb5-c4a4-4701-9ab4-c00b144c3a46\">\n",
       "    <div class=\"colab-df-container\">\n",
       "      <div>\n",
       "<style scoped>\n",
       "    .dataframe tbody tr th:only-of-type {\n",
       "        vertical-align: middle;\n",
       "    }\n",
       "\n",
       "    .dataframe tbody tr th {\n",
       "        vertical-align: top;\n",
       "    }\n",
       "\n",
       "    .dataframe thead th {\n",
       "        text-align: right;\n",
       "    }\n",
       "</style>\n",
       "<table border=\"1\" class=\"dataframe\">\n",
       "  <thead>\n",
       "    <tr style=\"text-align: right;\">\n",
       "      <th></th>\n",
       "      <th>ID</th>\n",
       "      <th>TestNo</th>\n",
       "      <th>Rating</th>\n",
       "    </tr>\n",
       "  </thead>\n",
       "  <tbody>\n",
       "    <tr>\n",
       "      <th>0</th>\n",
       "      <td>2</td>\n",
       "      <td>1</td>\n",
       "      <td>3</td>\n",
       "    </tr>\n",
       "    <tr>\n",
       "      <th>1</th>\n",
       "      <td>2</td>\n",
       "      <td>2</td>\n",
       "      <td>5</td>\n",
       "    </tr>\n",
       "    <tr>\n",
       "      <th>2</th>\n",
       "      <td>3</td>\n",
       "      <td>1</td>\n",
       "      <td>4</td>\n",
       "    </tr>\n",
       "    <tr>\n",
       "      <th>3</th>\n",
       "      <td>3</td>\n",
       "      <td>2</td>\n",
       "      <td>3</td>\n",
       "    </tr>\n",
       "    <tr>\n",
       "      <th>4</th>\n",
       "      <td>3</td>\n",
       "      <td>3</td>\n",
       "      <td>5</td>\n",
       "    </tr>\n",
       "    <tr>\n",
       "      <th>5</th>\n",
       "      <td>4</td>\n",
       "      <td>1</td>\n",
       "      <td>3</td>\n",
       "    </tr>\n",
       "    <tr>\n",
       "      <th>6</th>\n",
       "      <td>5</td>\n",
       "      <td>1</td>\n",
       "      <td>4</td>\n",
       "    </tr>\n",
       "    <tr>\n",
       "      <th>7</th>\n",
       "      <td>5</td>\n",
       "      <td>2</td>\n",
       "      <td>5</td>\n",
       "    </tr>\n",
       "    <tr>\n",
       "      <th>8</th>\n",
       "      <td>6</td>\n",
       "      <td>1</td>\n",
       "      <td>2</td>\n",
       "    </tr>\n",
       "    <tr>\n",
       "      <th>9</th>\n",
       "      <td>6</td>\n",
       "      <td>2</td>\n",
       "      <td>3</td>\n",
       "    </tr>\n",
       "  </tbody>\n",
       "</table>\n",
       "</div>\n",
       "      <button class=\"colab-df-convert\" onclick=\"convertToInteractive('df-fd14bcb5-c4a4-4701-9ab4-c00b144c3a46')\"\n",
       "              title=\"Convert this dataframe to an interactive table.\"\n",
       "              style=\"display:none;\">\n",
       "        \n",
       "  <svg xmlns=\"http://www.w3.org/2000/svg\" height=\"24px\"viewBox=\"0 0 24 24\"\n",
       "       width=\"24px\">\n",
       "    <path d=\"M0 0h24v24H0V0z\" fill=\"none\"/>\n",
       "    <path d=\"M18.56 5.44l.94 2.06.94-2.06 2.06-.94-2.06-.94-.94-2.06-.94 2.06-2.06.94zm-11 1L8.5 8.5l.94-2.06 2.06-.94-2.06-.94L8.5 2.5l-.94 2.06-2.06.94zm10 10l.94 2.06.94-2.06 2.06-.94-2.06-.94-.94-2.06-.94 2.06-2.06.94z\"/><path d=\"M17.41 7.96l-1.37-1.37c-.4-.4-.92-.59-1.43-.59-.52 0-1.04.2-1.43.59L10.3 9.45l-7.72 7.72c-.78.78-.78 2.05 0 2.83L4 21.41c.39.39.9.59 1.41.59.51 0 1.02-.2 1.41-.59l7.78-7.78 2.81-2.81c.8-.78.8-2.07 0-2.86zM5.41 20L4 18.59l7.72-7.72 1.47 1.35L5.41 20z\"/>\n",
       "  </svg>\n",
       "      </button>\n",
       "      \n",
       "  <style>\n",
       "    .colab-df-container {\n",
       "      display:flex;\n",
       "      flex-wrap:wrap;\n",
       "      gap: 12px;\n",
       "    }\n",
       "\n",
       "    .colab-df-convert {\n",
       "      background-color: #E8F0FE;\n",
       "      border: none;\n",
       "      border-radius: 50%;\n",
       "      cursor: pointer;\n",
       "      display: none;\n",
       "      fill: #1967D2;\n",
       "      height: 32px;\n",
       "      padding: 0 0 0 0;\n",
       "      width: 32px;\n",
       "    }\n",
       "\n",
       "    .colab-df-convert:hover {\n",
       "      background-color: #E2EBFA;\n",
       "      box-shadow: 0px 1px 2px rgba(60, 64, 67, 0.3), 0px 1px 3px 1px rgba(60, 64, 67, 0.15);\n",
       "      fill: #174EA6;\n",
       "    }\n",
       "\n",
       "    [theme=dark] .colab-df-convert {\n",
       "      background-color: #3B4455;\n",
       "      fill: #D2E3FC;\n",
       "    }\n",
       "\n",
       "    [theme=dark] .colab-df-convert:hover {\n",
       "      background-color: #434B5C;\n",
       "      box-shadow: 0px 1px 3px 1px rgba(0, 0, 0, 0.15);\n",
       "      filter: drop-shadow(0px 1px 2px rgba(0, 0, 0, 0.3));\n",
       "      fill: #FFFFFF;\n",
       "    }\n",
       "  </style>\n",
       "\n",
       "      <script>\n",
       "        const buttonEl =\n",
       "          document.querySelector('#df-fd14bcb5-c4a4-4701-9ab4-c00b144c3a46 button.colab-df-convert');\n",
       "        buttonEl.style.display =\n",
       "          google.colab.kernel.accessAllowed ? 'block' : 'none';\n",
       "\n",
       "        async function convertToInteractive(key) {\n",
       "          const element = document.querySelector('#df-fd14bcb5-c4a4-4701-9ab4-c00b144c3a46');\n",
       "          const dataTable =\n",
       "            await google.colab.kernel.invokeFunction('convertToInteractive',\n",
       "                                                     [key], {});\n",
       "          if (!dataTable) return;\n",
       "\n",
       "          const docLinkHtml = 'Like what you see? Visit the ' +\n",
       "            '<a target=\"_blank\" href=https://colab.research.google.com/notebooks/data_table.ipynb>data table notebook</a>'\n",
       "            + ' to learn more about interactive tables.';\n",
       "          element.innerHTML = '';\n",
       "          dataTable['output_type'] = 'display_data';\n",
       "          await google.colab.output.renderOutput(dataTable, element);\n",
       "          const docLink = document.createElement('div');\n",
       "          docLink.innerHTML = docLinkHtml;\n",
       "          element.appendChild(docLink);\n",
       "        }\n",
       "      </script>\n",
       "    </div>\n",
       "  </div>\n",
       "  "
      ],
      "text/plain": [
       "   ID  TestNo  Rating\n",
       "0   2       1       3\n",
       "1   2       2       5\n",
       "2   3       1       4\n",
       "3   3       2       3\n",
       "4   3       3       5\n",
       "5   4       1       3\n",
       "6   5       1       4\n",
       "7   5       2       5\n",
       "8   6       1       2\n",
       "9   6       2       3"
      ]
     },
     "execution_count": 11,
     "metadata": {},
     "output_type": "execute_result"
    }
   ],
   "source": [
    "df2"
   ]
  },
  {
   "cell_type": "code",
   "execution_count": null,
   "metadata": {
    "colab": {
     "base_uri": "https://localhost:8080/"
    },
    "executionInfo": {
     "elapsed": 351,
     "status": "ok",
     "timestamp": 1651598643136,
     "user": {
      "displayName": "Thanachart Ritbumroong",
      "userId": "18414212507793256437"
     },
     "user_tz": -420
    },
    "id": "w4D2rXvR7LRz",
    "outputId": "470737bf-4dd1-4a4e-8220-a2b5de64ffac"
   },
   "outputs": [
    {
     "name": "stdout",
     "output_type": "stream",
     "text": [
      "    TestNo  Rating\n",
      "ID                \n",
      "2      1.0     4.0\n",
      "3      2.0     4.0\n",
      "4      1.0     3.0\n",
      "5      1.5     4.5\n",
      "6      1.5     2.5\n"
     ]
    }
   ],
   "source": [
    "df2_groupby_mean = df2.groupby(by=['ID']).mean()\n",
    "\n",
    "print(df2_groupby_mean)"
   ]
  },
  {
   "cell_type": "code",
   "execution_count": null,
   "metadata": {
    "colab": {
     "base_uri": "https://localhost:8080/"
    },
    "executionInfo": {
     "elapsed": 5,
     "status": "ok",
     "timestamp": 1651598686369,
     "user": {
      "displayName": "Thanachart Ritbumroong",
      "userId": "18414212507793256437"
     },
     "user_tz": -420
    },
    "id": "yf4WJdFX86Rp",
    "outputId": "d8ed844d-8b2d-488a-a862-18e92a253d3b"
   },
   "outputs": [
    {
     "name": "stdout",
     "output_type": "stream",
     "text": [
      "   ID  TestNo  Rating\n",
      "0   2     1.0     4.0\n",
      "1   3     2.0     4.0\n",
      "2   4     1.0     3.0\n",
      "3   5     1.5     4.5\n",
      "4   6     1.5     2.5\n"
     ]
    }
   ],
   "source": [
    "df2_groupby_mean = df2.groupby(by=['ID']).mean().reset_index()\n",
    "\n",
    "print(df2_groupby_mean)"
   ]
  },
  {
   "cell_type": "markdown",
   "metadata": {
    "id": "GjVyw9Gp9KlE"
   },
   "source": [
    "<img src=https://github.com/ai-builders/curriculum/raw/main/images/tabular_images/10.png width=\"750px\">\n",
    "\n",
    "https://pandas.pydata.org/docs/reference/api/pandas.DataFrame.agg.html"
   ]
  },
  {
   "cell_type": "code",
   "execution_count": null,
   "metadata": {
    "colab": {
     "base_uri": "https://localhost:8080/"
    },
    "executionInfo": {
     "elapsed": 320,
     "status": "ok",
     "timestamp": 1651599474268,
     "user": {
      "displayName": "Thanachart Ritbumroong",
      "userId": "18414212507793256437"
     },
     "user_tz": -420
    },
    "id": "bJMWcsPN9NuJ",
    "outputId": "39b6ac5a-47f8-488c-e8a2-f7b599bc7e6f"
   },
   "outputs": [
    {
     "name": "stdout",
     "output_type": "stream",
     "text": [
      "   ID  avg_rating  sum_rating  no_tests\n",
      "0   2         4.0           8         2\n",
      "1   3         4.0          12         3\n",
      "2   4         3.0           3         1\n",
      "3   5         4.5           9         2\n",
      "4   6         2.5           5         2\n"
     ]
    }
   ],
   "source": [
    "import numpy as np\n",
    "\n",
    "df2_groupby = df2.groupby(by=['ID']).agg(avg_rating = ('Rating', np.mean) , sum_rating = ('Rating', sum), no_tests = ('TestNo', np.count_nonzero)).reset_index()\n",
    "\n",
    "print(df2_groupby)"
   ]
  },
  {
   "cell_type": "code",
   "execution_count": null,
   "metadata": {
    "colab": {
     "base_uri": "https://localhost:8080/"
    },
    "executionInfo": {
     "elapsed": 366,
     "status": "ok",
     "timestamp": 1651599507607,
     "user": {
      "displayName": "Thanachart Ritbumroong",
      "userId": "18414212507793256437"
     },
     "user_tz": -420
    },
    "id": "i3a3rHrBACwO",
    "outputId": "752ccd3b-82bf-4308-c8cc-439e69c2dacb"
   },
   "outputs": [
    {
     "name": "stdout",
     "output_type": "stream",
     "text": [
      "   ID   Name  Gender   Hometown   Age  Scores  avg_rating  sum_rating  \\\n",
      "0   1    Bob    Male    Bangkok  16.0    90.0         NaN         NaN   \n",
      "1   2  Alice  Female  Chiangmai  15.0    84.0         4.0         8.0   \n",
      "2   3    Tom    Male   Khonkaen  14.0    78.0         4.0        12.0   \n",
      "3   4    Tim    Male    Buriram  17.0    92.0         3.0         3.0   \n",
      "4   5   Lisa  Female       Loei  16.0    88.0         4.5         9.0   \n",
      "5   6    NaN     NaN        NaN   NaN     NaN         2.5         5.0   \n",
      "\n",
      "   no_tests  \n",
      "0       NaN  \n",
      "1       2.0  \n",
      "2       3.0  \n",
      "3       1.0  \n",
      "4       2.0  \n",
      "5       2.0  \n"
     ]
    }
   ],
   "source": [
    "df_outer_join_same_detail = df1.merge(df2_groupby, left_on='ID', right_on='ID', how='outer')\n",
    "\n",
    "print(df_outer_join_same_detail)"
   ]
  },
  {
   "cell_type": "markdown",
   "metadata": {
    "id": "-gTnO4mz6ma0"
   },
   "source": [
    "## Transform Tabular Data"
   ]
  },
  {
   "cell_type": "markdown",
   "metadata": {
    "id": "aBTmWXrhFUXW"
   },
   "source": [
    "### From Long to Wide Format"
   ]
  },
  {
   "cell_type": "markdown",
   "metadata": {
    "id": "PR4_T6VLAfNz"
   },
   "source": [
    "<img src=https://github.com/ai-builders/curriculum/raw/main/images/tabular_images/11.png width=\"750px\">\n",
    "\n",
    "https://pandas.pydata.org/docs/reference/api/pandas.DataFrame.pivot_table.html"
   ]
  },
  {
   "cell_type": "code",
   "execution_count": 12,
   "metadata": {
    "colab": {
     "base_uri": "https://localhost:8080/",
     "height": 363
    },
    "executionInfo": {
     "elapsed": 339,
     "status": "ok",
     "timestamp": 1652162378590,
     "user": {
      "displayName": "Thanachart Ritbumroong",
      "userId": "18414212507793256437"
     },
     "user_tz": -420
    },
    "id": "v5QCWkWSjSs8",
    "outputId": "2ca0065f-6bff-4860-9e5a-b799290bb8c4"
   },
   "outputs": [
    {
     "data": {
      "text/html": [
       "\n",
       "  <div id=\"df-91248b74-4dee-42c9-b978-3abe0842d0e9\">\n",
       "    <div class=\"colab-df-container\">\n",
       "      <div>\n",
       "<style scoped>\n",
       "    .dataframe tbody tr th:only-of-type {\n",
       "        vertical-align: middle;\n",
       "    }\n",
       "\n",
       "    .dataframe tbody tr th {\n",
       "        vertical-align: top;\n",
       "    }\n",
       "\n",
       "    .dataframe thead th {\n",
       "        text-align: right;\n",
       "    }\n",
       "</style>\n",
       "<table border=\"1\" class=\"dataframe\">\n",
       "  <thead>\n",
       "    <tr style=\"text-align: right;\">\n",
       "      <th></th>\n",
       "      <th>ID</th>\n",
       "      <th>TestNo</th>\n",
       "      <th>Rating</th>\n",
       "    </tr>\n",
       "  </thead>\n",
       "  <tbody>\n",
       "    <tr>\n",
       "      <th>0</th>\n",
       "      <td>2</td>\n",
       "      <td>1</td>\n",
       "      <td>3</td>\n",
       "    </tr>\n",
       "    <tr>\n",
       "      <th>1</th>\n",
       "      <td>2</td>\n",
       "      <td>2</td>\n",
       "      <td>5</td>\n",
       "    </tr>\n",
       "    <tr>\n",
       "      <th>2</th>\n",
       "      <td>3</td>\n",
       "      <td>1</td>\n",
       "      <td>4</td>\n",
       "    </tr>\n",
       "    <tr>\n",
       "      <th>3</th>\n",
       "      <td>3</td>\n",
       "      <td>2</td>\n",
       "      <td>3</td>\n",
       "    </tr>\n",
       "    <tr>\n",
       "      <th>4</th>\n",
       "      <td>3</td>\n",
       "      <td>3</td>\n",
       "      <td>5</td>\n",
       "    </tr>\n",
       "    <tr>\n",
       "      <th>5</th>\n",
       "      <td>4</td>\n",
       "      <td>1</td>\n",
       "      <td>3</td>\n",
       "    </tr>\n",
       "    <tr>\n",
       "      <th>6</th>\n",
       "      <td>5</td>\n",
       "      <td>1</td>\n",
       "      <td>4</td>\n",
       "    </tr>\n",
       "    <tr>\n",
       "      <th>7</th>\n",
       "      <td>5</td>\n",
       "      <td>2</td>\n",
       "      <td>5</td>\n",
       "    </tr>\n",
       "    <tr>\n",
       "      <th>8</th>\n",
       "      <td>6</td>\n",
       "      <td>1</td>\n",
       "      <td>2</td>\n",
       "    </tr>\n",
       "    <tr>\n",
       "      <th>9</th>\n",
       "      <td>6</td>\n",
       "      <td>2</td>\n",
       "      <td>3</td>\n",
       "    </tr>\n",
       "  </tbody>\n",
       "</table>\n",
       "</div>\n",
       "      <button class=\"colab-df-convert\" onclick=\"convertToInteractive('df-91248b74-4dee-42c9-b978-3abe0842d0e9')\"\n",
       "              title=\"Convert this dataframe to an interactive table.\"\n",
       "              style=\"display:none;\">\n",
       "        \n",
       "  <svg xmlns=\"http://www.w3.org/2000/svg\" height=\"24px\"viewBox=\"0 0 24 24\"\n",
       "       width=\"24px\">\n",
       "    <path d=\"M0 0h24v24H0V0z\" fill=\"none\"/>\n",
       "    <path d=\"M18.56 5.44l.94 2.06.94-2.06 2.06-.94-2.06-.94-.94-2.06-.94 2.06-2.06.94zm-11 1L8.5 8.5l.94-2.06 2.06-.94-2.06-.94L8.5 2.5l-.94 2.06-2.06.94zm10 10l.94 2.06.94-2.06 2.06-.94-2.06-.94-.94-2.06-.94 2.06-2.06.94z\"/><path d=\"M17.41 7.96l-1.37-1.37c-.4-.4-.92-.59-1.43-.59-.52 0-1.04.2-1.43.59L10.3 9.45l-7.72 7.72c-.78.78-.78 2.05 0 2.83L4 21.41c.39.39.9.59 1.41.59.51 0 1.02-.2 1.41-.59l7.78-7.78 2.81-2.81c.8-.78.8-2.07 0-2.86zM5.41 20L4 18.59l7.72-7.72 1.47 1.35L5.41 20z\"/>\n",
       "  </svg>\n",
       "      </button>\n",
       "      \n",
       "  <style>\n",
       "    .colab-df-container {\n",
       "      display:flex;\n",
       "      flex-wrap:wrap;\n",
       "      gap: 12px;\n",
       "    }\n",
       "\n",
       "    .colab-df-convert {\n",
       "      background-color: #E8F0FE;\n",
       "      border: none;\n",
       "      border-radius: 50%;\n",
       "      cursor: pointer;\n",
       "      display: none;\n",
       "      fill: #1967D2;\n",
       "      height: 32px;\n",
       "      padding: 0 0 0 0;\n",
       "      width: 32px;\n",
       "    }\n",
       "\n",
       "    .colab-df-convert:hover {\n",
       "      background-color: #E2EBFA;\n",
       "      box-shadow: 0px 1px 2px rgba(60, 64, 67, 0.3), 0px 1px 3px 1px rgba(60, 64, 67, 0.15);\n",
       "      fill: #174EA6;\n",
       "    }\n",
       "\n",
       "    [theme=dark] .colab-df-convert {\n",
       "      background-color: #3B4455;\n",
       "      fill: #D2E3FC;\n",
       "    }\n",
       "\n",
       "    [theme=dark] .colab-df-convert:hover {\n",
       "      background-color: #434B5C;\n",
       "      box-shadow: 0px 1px 3px 1px rgba(0, 0, 0, 0.15);\n",
       "      filter: drop-shadow(0px 1px 2px rgba(0, 0, 0, 0.3));\n",
       "      fill: #FFFFFF;\n",
       "    }\n",
       "  </style>\n",
       "\n",
       "      <script>\n",
       "        const buttonEl =\n",
       "          document.querySelector('#df-91248b74-4dee-42c9-b978-3abe0842d0e9 button.colab-df-convert');\n",
       "        buttonEl.style.display =\n",
       "          google.colab.kernel.accessAllowed ? 'block' : 'none';\n",
       "\n",
       "        async function convertToInteractive(key) {\n",
       "          const element = document.querySelector('#df-91248b74-4dee-42c9-b978-3abe0842d0e9');\n",
       "          const dataTable =\n",
       "            await google.colab.kernel.invokeFunction('convertToInteractive',\n",
       "                                                     [key], {});\n",
       "          if (!dataTable) return;\n",
       "\n",
       "          const docLinkHtml = 'Like what you see? Visit the ' +\n",
       "            '<a target=\"_blank\" href=https://colab.research.google.com/notebooks/data_table.ipynb>data table notebook</a>'\n",
       "            + ' to learn more about interactive tables.';\n",
       "          element.innerHTML = '';\n",
       "          dataTable['output_type'] = 'display_data';\n",
       "          await google.colab.output.renderOutput(dataTable, element);\n",
       "          const docLink = document.createElement('div');\n",
       "          docLink.innerHTML = docLinkHtml;\n",
       "          element.appendChild(docLink);\n",
       "        }\n",
       "      </script>\n",
       "    </div>\n",
       "  </div>\n",
       "  "
      ],
      "text/plain": [
       "   ID  TestNo  Rating\n",
       "0   2       1       3\n",
       "1   2       2       5\n",
       "2   3       1       4\n",
       "3   3       2       3\n",
       "4   3       3       5\n",
       "5   4       1       3\n",
       "6   5       1       4\n",
       "7   5       2       5\n",
       "8   6       1       2\n",
       "9   6       2       3"
      ]
     },
     "execution_count": 12,
     "metadata": {},
     "output_type": "execute_result"
    }
   ],
   "source": [
    "df2"
   ]
  },
  {
   "cell_type": "code",
   "execution_count": 14,
   "metadata": {
    "colab": {
     "base_uri": "https://localhost:8080/"
    },
    "executionInfo": {
     "elapsed": 2,
     "status": "ok",
     "timestamp": 1652162533833,
     "user": {
      "displayName": "Thanachart Ritbumroong",
      "userId": "18414212507793256437"
     },
     "user_tz": -420
    },
    "id": "xr_Qos16DJ5O",
    "outputId": "603768cc-c8fd-491e-89e2-6dd69ce7f9e7"
   },
   "outputs": [
    {
     "name": "stdout",
     "output_type": "stream",
     "text": [
      "TestNo    1    2    3\n",
      "ID                   \n",
      "2       3.0  5.0  NaN\n",
      "3       4.0  3.0  5.0\n",
      "4       3.0  NaN  NaN\n",
      "5       4.0  5.0  NaN\n",
      "6       2.0  3.0  NaN\n"
     ]
    }
   ],
   "source": [
    "import numpy as np\n",
    "\n",
    "df2_pivot = df2.pivot_table(index='ID', columns='TestNo', values='Rating', aggfunc=np.mean)\n",
    "\n",
    "print(df2_pivot)"
   ]
  },
  {
   "cell_type": "code",
   "execution_count": 16,
   "metadata": {
    "colab": {
     "base_uri": "https://localhost:8080/"
    },
    "executionInfo": {
     "elapsed": 331,
     "status": "ok",
     "timestamp": 1652162660332,
     "user": {
      "displayName": "Thanachart Ritbumroong",
      "userId": "18414212507793256437"
     },
     "user_tz": -420
    },
    "id": "MPgiSITTE7mQ",
    "outputId": "71c44ddc-34d9-4875-f8d5-ca7ba91d0f25"
   },
   "outputs": [
    {
     "name": "stdout",
     "output_type": "stream",
     "text": [
      "TestNo  ID    1    2    3\n",
      "0        2  3.0  5.0  NaN\n",
      "1        3  4.0  3.0  5.0\n",
      "2        4  3.0  NaN  NaN\n",
      "3        5  4.0  5.0  NaN\n",
      "4        6  2.0  3.0  NaN\n"
     ]
    }
   ],
   "source": [
    "df2_pivot = df2.pivot_table(index='ID', columns='TestNo', values='Rating', aggfunc=np.mean).reset_index()\n",
    "\n",
    "print(df2_pivot)"
   ]
  },
  {
   "cell_type": "markdown",
   "metadata": {
    "id": "_WaU3CqdFY2G"
   },
   "source": [
    "### From Wide to Long Format"
   ]
  },
  {
   "cell_type": "markdown",
   "metadata": {
    "id": "63gI1Fv_FcJo"
   },
   "source": [
    "<img src=https://github.com/ai-builders/curriculum/raw/main/images/tabular_images/12.png width=\"750px\">\n",
    "\n",
    "https://pandas.pydata.org/docs/reference/api/pandas.DataFrame.melt.html"
   ]
  },
  {
   "cell_type": "code",
   "execution_count": 17,
   "metadata": {
    "colab": {
     "base_uri": "https://localhost:8080/"
    },
    "executionInfo": {
     "elapsed": 357,
     "status": "ok",
     "timestamp": 1652162663847,
     "user": {
      "displayName": "Thanachart Ritbumroong",
      "userId": "18414212507793256437"
     },
     "user_tz": -420
    },
    "id": "0F8ADpw3FbaR",
    "outputId": "bdd0c32a-0675-4dae-ba5a-5db3b37ee90d"
   },
   "outputs": [
    {
     "name": "stdout",
     "output_type": "stream",
     "text": [
      "    ID TestNo  Rating\n",
      "0    2      1     3.0\n",
      "1    3      1     4.0\n",
      "2    4      1     3.0\n",
      "3    5      1     4.0\n",
      "4    6      1     2.0\n",
      "5    2      2     5.0\n",
      "6    3      2     3.0\n",
      "7    4      2     NaN\n",
      "8    5      2     5.0\n",
      "9    6      2     3.0\n",
      "10   2      3     NaN\n",
      "11   3      3     5.0\n",
      "12   4      3     NaN\n",
      "13   5      3     NaN\n",
      "14   6      3     NaN\n"
     ]
    }
   ],
   "source": [
    "df2_pivot_melt = df2_pivot.melt(id_vars=['ID'], value_vars=[1, 2, 3], value_name='Rating')\n",
    "\n",
    "print(df2_pivot_melt)"
   ]
  },
  {
   "cell_type": "markdown",
   "metadata": {
    "id": "LOhbtS1T6qk7"
   },
   "source": [
    "## Analyze Tabular Data"
   ]
  },
  {
   "cell_type": "markdown",
   "metadata": {
    "id": "B-lNz8vGHQP8"
   },
   "source": [
    "*   pandas.DataFrame.sum\n",
    "*   pandas.DataFrame.mean\n",
    "*   pandas.DataFrame.median\n",
    "*   pandas.DataFrame.mode\n",
    "*   pandas.DataFrame.min\n",
    "*   pandas.DataFrame.max\n",
    "*   pandas.DataFrame.std\n",
    "*   pandas.DataFrame.value_counts\n",
    "*   pandas.DataFrame.corr\n",
    "*   pandas.DataFrame.plot"
   ]
  },
  {
   "cell_type": "code",
   "execution_count": null,
   "metadata": {
    "colab": {
     "base_uri": "https://localhost:8080/"
    },
    "executionInfo": {
     "elapsed": 316,
     "status": "ok",
     "timestamp": 1651601547727,
     "user": {
      "displayName": "Thanachart Ritbumroong",
      "userId": "18414212507793256437"
     },
     "user_tz": -420
    },
    "id": "5ZEoGc-xH4U2",
    "outputId": "85eb7f4c-a54f-45f9-df62-d67457338714"
   },
   "outputs": [
    {
     "data": {
      "text/plain": [
       "ID          5\n",
       "Name        5\n",
       "Gender      5\n",
       "Hometown    5\n",
       "Age         5\n",
       "Scores      5\n",
       "dtype: int64"
      ]
     },
     "execution_count": 111,
     "metadata": {},
     "output_type": "execute_result"
    }
   ],
   "source": [
    "df.count()"
   ]
  },
  {
   "cell_type": "code",
   "execution_count": null,
   "metadata": {
    "colab": {
     "base_uri": "https://localhost:8080/"
    },
    "executionInfo": {
     "elapsed": 2,
     "status": "ok",
     "timestamp": 1651601581749,
     "user": {
      "displayName": "Thanachart Ritbumroong",
      "userId": "18414212507793256437"
     },
     "user_tz": -420
    },
    "id": "rPSbgbJgIAD0",
    "outputId": "7e164529-5307-4c9c-8846-818470904dd2"
   },
   "outputs": [
    {
     "data": {
      "text/plain": [
       "ID        15\n",
       "TestNo    15\n",
       "Rating     9\n",
       "dtype: int64"
      ]
     },
     "execution_count": 112,
     "metadata": {},
     "output_type": "execute_result"
    }
   ],
   "source": [
    "df2_pivot_melt.count()"
   ]
  },
  {
   "cell_type": "code",
   "execution_count": null,
   "metadata": {
    "colab": {
     "base_uri": "https://localhost:8080/"
    },
    "executionInfo": {
     "elapsed": 318,
     "status": "ok",
     "timestamp": 1651601588097,
     "user": {
      "displayName": "Thanachart Ritbumroong",
      "userId": "18414212507793256437"
     },
     "user_tz": -420
    },
    "id": "gTOs2o_CH2KT",
    "outputId": "62b326a2-4ee7-4e63-ab0d-e1cc5137410a"
   },
   "outputs": [
    {
     "name": "stderr",
     "output_type": "stream",
     "text": [
      "/usr/local/lib/python3.7/dist-packages/ipykernel_launcher.py:1: FutureWarning: Dropping of nuisance columns in DataFrame reductions (with 'numeric_only=None') is deprecated; in a future version this will raise TypeError.  Select only valid columns before calling the reduction.\n",
      "  \"\"\"Entry point for launching an IPython kernel.\n"
     ]
    },
    {
     "data": {
      "text/plain": [
       "ID         3.0\n",
       "Age       15.6\n",
       "Scores    86.4\n",
       "dtype: float64"
      ]
     },
     "execution_count": 113,
     "metadata": {},
     "output_type": "execute_result"
    }
   ],
   "source": [
    "df.mean()"
   ]
  },
  {
   "cell_type": "code",
   "execution_count": null,
   "metadata": {
    "colab": {
     "base_uri": "https://localhost:8080/",
     "height": 143
    },
    "executionInfo": {
     "elapsed": 528,
     "status": "ok",
     "timestamp": 1651601631388,
     "user": {
      "displayName": "Thanachart Ritbumroong",
      "userId": "18414212507793256437"
     },
     "user_tz": -420
    },
    "id": "ofDdlTUUIKEw",
    "outputId": "b81b1bd7-6569-439a-9479-f86b868da3a6"
   },
   "outputs": [
    {
     "data": {
      "text/html": [
       "\n",
       "  <div id=\"df-a3b81fc0-9d07-4873-a687-44285a1abc08\">\n",
       "    <div class=\"colab-df-container\">\n",
       "      <div>\n",
       "<style scoped>\n",
       "    .dataframe tbody tr th:only-of-type {\n",
       "        vertical-align: middle;\n",
       "    }\n",
       "\n",
       "    .dataframe tbody tr th {\n",
       "        vertical-align: top;\n",
       "    }\n",
       "\n",
       "    .dataframe thead th {\n",
       "        text-align: right;\n",
       "    }\n",
       "</style>\n",
       "<table border=\"1\" class=\"dataframe\">\n",
       "  <thead>\n",
       "    <tr style=\"text-align: right;\">\n",
       "      <th></th>\n",
       "      <th>ID</th>\n",
       "      <th>Age</th>\n",
       "      <th>Scores</th>\n",
       "    </tr>\n",
       "  </thead>\n",
       "  <tbody>\n",
       "    <tr>\n",
       "      <th>ID</th>\n",
       "      <td>1.000000</td>\n",
       "      <td>0.277350</td>\n",
       "      <td>0.113961</td>\n",
       "    </tr>\n",
       "    <tr>\n",
       "      <th>Age</th>\n",
       "      <td>0.277350</td>\n",
       "      <td>1.000000</td>\n",
       "      <td>0.979816</td>\n",
       "    </tr>\n",
       "    <tr>\n",
       "      <th>Scores</th>\n",
       "      <td>0.113961</td>\n",
       "      <td>0.979816</td>\n",
       "      <td>1.000000</td>\n",
       "    </tr>\n",
       "  </tbody>\n",
       "</table>\n",
       "</div>\n",
       "      <button class=\"colab-df-convert\" onclick=\"convertToInteractive('df-a3b81fc0-9d07-4873-a687-44285a1abc08')\"\n",
       "              title=\"Convert this dataframe to an interactive table.\"\n",
       "              style=\"display:none;\">\n",
       "        \n",
       "  <svg xmlns=\"http://www.w3.org/2000/svg\" height=\"24px\"viewBox=\"0 0 24 24\"\n",
       "       width=\"24px\">\n",
       "    <path d=\"M0 0h24v24H0V0z\" fill=\"none\"/>\n",
       "    <path d=\"M18.56 5.44l.94 2.06.94-2.06 2.06-.94-2.06-.94-.94-2.06-.94 2.06-2.06.94zm-11 1L8.5 8.5l.94-2.06 2.06-.94-2.06-.94L8.5 2.5l-.94 2.06-2.06.94zm10 10l.94 2.06.94-2.06 2.06-.94-2.06-.94-.94-2.06-.94 2.06-2.06.94z\"/><path d=\"M17.41 7.96l-1.37-1.37c-.4-.4-.92-.59-1.43-.59-.52 0-1.04.2-1.43.59L10.3 9.45l-7.72 7.72c-.78.78-.78 2.05 0 2.83L4 21.41c.39.39.9.59 1.41.59.51 0 1.02-.2 1.41-.59l7.78-7.78 2.81-2.81c.8-.78.8-2.07 0-2.86zM5.41 20L4 18.59l7.72-7.72 1.47 1.35L5.41 20z\"/>\n",
       "  </svg>\n",
       "      </button>\n",
       "      \n",
       "  <style>\n",
       "    .colab-df-container {\n",
       "      display:flex;\n",
       "      flex-wrap:wrap;\n",
       "      gap: 12px;\n",
       "    }\n",
       "\n",
       "    .colab-df-convert {\n",
       "      background-color: #E8F0FE;\n",
       "      border: none;\n",
       "      border-radius: 50%;\n",
       "      cursor: pointer;\n",
       "      display: none;\n",
       "      fill: #1967D2;\n",
       "      height: 32px;\n",
       "      padding: 0 0 0 0;\n",
       "      width: 32px;\n",
       "    }\n",
       "\n",
       "    .colab-df-convert:hover {\n",
       "      background-color: #E2EBFA;\n",
       "      box-shadow: 0px 1px 2px rgba(60, 64, 67, 0.3), 0px 1px 3px 1px rgba(60, 64, 67, 0.15);\n",
       "      fill: #174EA6;\n",
       "    }\n",
       "\n",
       "    [theme=dark] .colab-df-convert {\n",
       "      background-color: #3B4455;\n",
       "      fill: #D2E3FC;\n",
       "    }\n",
       "\n",
       "    [theme=dark] .colab-df-convert:hover {\n",
       "      background-color: #434B5C;\n",
       "      box-shadow: 0px 1px 3px 1px rgba(0, 0, 0, 0.15);\n",
       "      filter: drop-shadow(0px 1px 2px rgba(0, 0, 0, 0.3));\n",
       "      fill: #FFFFFF;\n",
       "    }\n",
       "  </style>\n",
       "\n",
       "      <script>\n",
       "        const buttonEl =\n",
       "          document.querySelector('#df-a3b81fc0-9d07-4873-a687-44285a1abc08 button.colab-df-convert');\n",
       "        buttonEl.style.display =\n",
       "          google.colab.kernel.accessAllowed ? 'block' : 'none';\n",
       "\n",
       "        async function convertToInteractive(key) {\n",
       "          const element = document.querySelector('#df-a3b81fc0-9d07-4873-a687-44285a1abc08');\n",
       "          const dataTable =\n",
       "            await google.colab.kernel.invokeFunction('convertToInteractive',\n",
       "                                                     [key], {});\n",
       "          if (!dataTable) return;\n",
       "\n",
       "          const docLinkHtml = 'Like what you see? Visit the ' +\n",
       "            '<a target=\"_blank\" href=https://colab.research.google.com/notebooks/data_table.ipynb>data table notebook</a>'\n",
       "            + ' to learn more about interactive tables.';\n",
       "          element.innerHTML = '';\n",
       "          dataTable['output_type'] = 'display_data';\n",
       "          await google.colab.output.renderOutput(dataTable, element);\n",
       "          const docLink = document.createElement('div');\n",
       "          docLink.innerHTML = docLinkHtml;\n",
       "          element.appendChild(docLink);\n",
       "        }\n",
       "      </script>\n",
       "    </div>\n",
       "  </div>\n",
       "  "
      ],
      "text/plain": [
       "              ID       Age    Scores\n",
       "ID      1.000000  0.277350  0.113961\n",
       "Age     0.277350  1.000000  0.979816\n",
       "Scores  0.113961  0.979816  1.000000"
      ]
     },
     "execution_count": 115,
     "metadata": {},
     "output_type": "execute_result"
    }
   ],
   "source": [
    "df.corr()"
   ]
  },
  {
   "cell_type": "code",
   "execution_count": null,
   "metadata": {
    "colab": {
     "base_uri": "https://localhost:8080/",
     "height": 300
    },
    "executionInfo": {
     "elapsed": 338,
     "status": "ok",
     "timestamp": 1651601640641,
     "user": {
      "displayName": "Thanachart Ritbumroong",
      "userId": "18414212507793256437"
     },
     "user_tz": -420
    },
    "id": "dIgL7fnwIPM3",
    "outputId": "001cd7cb-e156-49af-eb7c-35ffb8c61d14"
   },
   "outputs": [
    {
     "data": {
      "text/html": [
       "\n",
       "  <div id=\"df-f4902a87-d0ea-49e5-bd61-796b65d97dd5\">\n",
       "    <div class=\"colab-df-container\">\n",
       "      <div>\n",
       "<style scoped>\n",
       "    .dataframe tbody tr th:only-of-type {\n",
       "        vertical-align: middle;\n",
       "    }\n",
       "\n",
       "    .dataframe tbody tr th {\n",
       "        vertical-align: top;\n",
       "    }\n",
       "\n",
       "    .dataframe thead th {\n",
       "        text-align: right;\n",
       "    }\n",
       "</style>\n",
       "<table border=\"1\" class=\"dataframe\">\n",
       "  <thead>\n",
       "    <tr style=\"text-align: right;\">\n",
       "      <th></th>\n",
       "      <th>ID</th>\n",
       "      <th>Age</th>\n",
       "      <th>Scores</th>\n",
       "    </tr>\n",
       "  </thead>\n",
       "  <tbody>\n",
       "    <tr>\n",
       "      <th>count</th>\n",
       "      <td>5.000000</td>\n",
       "      <td>5.000000</td>\n",
       "      <td>5.000000</td>\n",
       "    </tr>\n",
       "    <tr>\n",
       "      <th>mean</th>\n",
       "      <td>3.000000</td>\n",
       "      <td>15.600000</td>\n",
       "      <td>86.400000</td>\n",
       "    </tr>\n",
       "    <tr>\n",
       "      <th>std</th>\n",
       "      <td>1.581139</td>\n",
       "      <td>1.140175</td>\n",
       "      <td>5.549775</td>\n",
       "    </tr>\n",
       "    <tr>\n",
       "      <th>min</th>\n",
       "      <td>1.000000</td>\n",
       "      <td>14.000000</td>\n",
       "      <td>78.000000</td>\n",
       "    </tr>\n",
       "    <tr>\n",
       "      <th>25%</th>\n",
       "      <td>2.000000</td>\n",
       "      <td>15.000000</td>\n",
       "      <td>84.000000</td>\n",
       "    </tr>\n",
       "    <tr>\n",
       "      <th>50%</th>\n",
       "      <td>3.000000</td>\n",
       "      <td>16.000000</td>\n",
       "      <td>88.000000</td>\n",
       "    </tr>\n",
       "    <tr>\n",
       "      <th>75%</th>\n",
       "      <td>4.000000</td>\n",
       "      <td>16.000000</td>\n",
       "      <td>90.000000</td>\n",
       "    </tr>\n",
       "    <tr>\n",
       "      <th>max</th>\n",
       "      <td>5.000000</td>\n",
       "      <td>17.000000</td>\n",
       "      <td>92.000000</td>\n",
       "    </tr>\n",
       "  </tbody>\n",
       "</table>\n",
       "</div>\n",
       "      <button class=\"colab-df-convert\" onclick=\"convertToInteractive('df-f4902a87-d0ea-49e5-bd61-796b65d97dd5')\"\n",
       "              title=\"Convert this dataframe to an interactive table.\"\n",
       "              style=\"display:none;\">\n",
       "        \n",
       "  <svg xmlns=\"http://www.w3.org/2000/svg\" height=\"24px\"viewBox=\"0 0 24 24\"\n",
       "       width=\"24px\">\n",
       "    <path d=\"M0 0h24v24H0V0z\" fill=\"none\"/>\n",
       "    <path d=\"M18.56 5.44l.94 2.06.94-2.06 2.06-.94-2.06-.94-.94-2.06-.94 2.06-2.06.94zm-11 1L8.5 8.5l.94-2.06 2.06-.94-2.06-.94L8.5 2.5l-.94 2.06-2.06.94zm10 10l.94 2.06.94-2.06 2.06-.94-2.06-.94-.94-2.06-.94 2.06-2.06.94z\"/><path d=\"M17.41 7.96l-1.37-1.37c-.4-.4-.92-.59-1.43-.59-.52 0-1.04.2-1.43.59L10.3 9.45l-7.72 7.72c-.78.78-.78 2.05 0 2.83L4 21.41c.39.39.9.59 1.41.59.51 0 1.02-.2 1.41-.59l7.78-7.78 2.81-2.81c.8-.78.8-2.07 0-2.86zM5.41 20L4 18.59l7.72-7.72 1.47 1.35L5.41 20z\"/>\n",
       "  </svg>\n",
       "      </button>\n",
       "      \n",
       "  <style>\n",
       "    .colab-df-container {\n",
       "      display:flex;\n",
       "      flex-wrap:wrap;\n",
       "      gap: 12px;\n",
       "    }\n",
       "\n",
       "    .colab-df-convert {\n",
       "      background-color: #E8F0FE;\n",
       "      border: none;\n",
       "      border-radius: 50%;\n",
       "      cursor: pointer;\n",
       "      display: none;\n",
       "      fill: #1967D2;\n",
       "      height: 32px;\n",
       "      padding: 0 0 0 0;\n",
       "      width: 32px;\n",
       "    }\n",
       "\n",
       "    .colab-df-convert:hover {\n",
       "      background-color: #E2EBFA;\n",
       "      box-shadow: 0px 1px 2px rgba(60, 64, 67, 0.3), 0px 1px 3px 1px rgba(60, 64, 67, 0.15);\n",
       "      fill: #174EA6;\n",
       "    }\n",
       "\n",
       "    [theme=dark] .colab-df-convert {\n",
       "      background-color: #3B4455;\n",
       "      fill: #D2E3FC;\n",
       "    }\n",
       "\n",
       "    [theme=dark] .colab-df-convert:hover {\n",
       "      background-color: #434B5C;\n",
       "      box-shadow: 0px 1px 3px 1px rgba(0, 0, 0, 0.15);\n",
       "      filter: drop-shadow(0px 1px 2px rgba(0, 0, 0, 0.3));\n",
       "      fill: #FFFFFF;\n",
       "    }\n",
       "  </style>\n",
       "\n",
       "      <script>\n",
       "        const buttonEl =\n",
       "          document.querySelector('#df-f4902a87-d0ea-49e5-bd61-796b65d97dd5 button.colab-df-convert');\n",
       "        buttonEl.style.display =\n",
       "          google.colab.kernel.accessAllowed ? 'block' : 'none';\n",
       "\n",
       "        async function convertToInteractive(key) {\n",
       "          const element = document.querySelector('#df-f4902a87-d0ea-49e5-bd61-796b65d97dd5');\n",
       "          const dataTable =\n",
       "            await google.colab.kernel.invokeFunction('convertToInteractive',\n",
       "                                                     [key], {});\n",
       "          if (!dataTable) return;\n",
       "\n",
       "          const docLinkHtml = 'Like what you see? Visit the ' +\n",
       "            '<a target=\"_blank\" href=https://colab.research.google.com/notebooks/data_table.ipynb>data table notebook</a>'\n",
       "            + ' to learn more about interactive tables.';\n",
       "          element.innerHTML = '';\n",
       "          dataTable['output_type'] = 'display_data';\n",
       "          await google.colab.output.renderOutput(dataTable, element);\n",
       "          const docLink = document.createElement('div');\n",
       "          docLink.innerHTML = docLinkHtml;\n",
       "          element.appendChild(docLink);\n",
       "        }\n",
       "      </script>\n",
       "    </div>\n",
       "  </div>\n",
       "  "
      ],
      "text/plain": [
       "             ID        Age     Scores\n",
       "count  5.000000   5.000000   5.000000\n",
       "mean   3.000000  15.600000  86.400000\n",
       "std    1.581139   1.140175   5.549775\n",
       "min    1.000000  14.000000  78.000000\n",
       "25%    2.000000  15.000000  84.000000\n",
       "50%    3.000000  16.000000  88.000000\n",
       "75%    4.000000  16.000000  90.000000\n",
       "max    5.000000  17.000000  92.000000"
      ]
     },
     "execution_count": 116,
     "metadata": {},
     "output_type": "execute_result"
    }
   ],
   "source": [
    "df.describe()"
   ]
  },
  {
   "cell_type": "markdown",
   "metadata": {
    "id": "_dNwErnvJk0P"
   },
   "source": [
    "<img src=https://github.com/ai-builders/curriculum/raw/main/images/tabular_images/13.png width=\"750px\">\n",
    "\n",
    "https://pandas.pydata.org/docs/reference/api/pandas.DataFrame.plot.html"
   ]
  },
  {
   "cell_type": "code",
   "execution_count": null,
   "metadata": {
    "colab": {
     "base_uri": "https://localhost:8080/",
     "height": 296
    },
    "executionInfo": {
     "elapsed": 1190,
     "status": "ok",
     "timestamp": 1651601705635,
     "user": {
      "displayName": "Thanachart Ritbumroong",
      "userId": "18414212507793256437"
     },
     "user_tz": -420
    },
    "id": "kI0D20EzIZpZ",
    "outputId": "94d440cb-c4a4-45ae-dc70-acb696c138f6"
   },
   "outputs": [
    {
     "data": {
      "text/plain": [
       "<matplotlib.axes._subplots.AxesSubplot at 0x7efedba55e90>"
      ]
     },
     "execution_count": 117,
     "metadata": {},
     "output_type": "execute_result"
    },
    {
     "data": {
      "image/png": "[encoded data removed]",
      "text/plain": [
       "<Figure size 432x288 with 1 Axes>"
      ]
     },
     "metadata": {
      "needs_background": "light"
     },
     "output_type": "display_data"
    }
   ],
   "source": [
    "df.plot(x='Age', y='Scores', kind='scatter')"
   ]
  },
  {
   "cell_type": "markdown",
   "metadata": {
    "id": "t9fX8nUX6sdw"
   },
   "source": [
    "## Write Tabular Data"
   ]
  },
  {
   "cell_type": "code",
   "execution_count": null,
   "metadata": {
    "id": "-ST3Gq4OIkoE"
   },
   "outputs": [],
   "source": [
    "df_outer_join.to_csv('merged_file.csv')"
   ]
  },
  {
   "cell_type": "markdown",
   "metadata": {
    "id": "XL4RXRc6FAop"
   },
   "source": [
    "# Checkpoint ท้ายบท"
   ]
  },
  {
   "cell_type": "markdown",
   "metadata": {
    "id": "0vr4BULZFIwu"
   },
   "source": [
    "*   ☑️ เข้าใจองค์ประกอบหลักของ Tabular Data\n",
    "*   ☑️ สามารถออกแบบตารางเพื่อจัดเก็บข้อมูลได้\n",
    "*   ☑️ สามารถหาตัวอย่าง Tabular Data ได้\n",
    "*   ☑️ สามารถใช้ Pandas ในการจัดการและประมวลผล Tabular Data ได้"
   ]
  },
  {
   "cell_type": "markdown",
   "metadata": {
    "id": "RJBDm61EMIx6"
   },
   "source": [
    "# Exercise"
   ]
  },
  {
   "cell_type": "markdown",
   "metadata": {
    "id": "X2S1ijLZMKZn"
   },
   "source": [
    "หา Tabular Data ที่ตัวเองสนใจจาก https://www.kaggle.com/datasets แล้วลองทำการวิเคราะห์อย่างง่ายด้วย Pandas"
   ]
  }
 ],
 "metadata": {
  "colab": {
   "authorship_tag": "ABX9TyMlvO56199Js1D1ksuzuOw7",
   "collapsed_sections": [],
   "name": "04t_01_intro_to_tabular_data.ipynb",
   "provenance": []
  },
  "kernelspec": {
   "display_name": "Python 3.10.4 64-bit",
   "language": "python",
   "name": "python3"
  },
  "language_info": {
   "codemirror_mode": {
    "name": "ipython",
    "version": 3
   },
   "file_extension": ".py",
   "mimetype": "text/x-python",
   "name": "python",
   "nbconvert_exporter": "python",
   "pygments_lexer": "ipython3",
   "version": "3.10.4"
  },
  "vscode": {
   "interpreter": {
    "hash": "369f2c481f4da34e4445cda3fffd2e751bd1c4d706f27375911949ba6bb62e1c"
   }
  }
 },
 "nbformat": 4,
 "nbformat_minor": 4
}
