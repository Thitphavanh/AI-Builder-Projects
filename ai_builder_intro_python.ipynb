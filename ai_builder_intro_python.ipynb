{
  "cells": [
    {
      "cell_type": "markdown",
      "metadata": {
        "id": "a1B0Yys3BXjs"
      },
      "source": [
        "# Introduction to Python\n",
        "\n",
        "[![Open in Colab](https://colab.research.google.com/assets/colab-badge.svg)](https://colab.research.google.com/github/vistec-AI/ai-builders/blob/main/notebooks/ai_builder_intro_python.ipynb)\n"
      ]
    },
    {
      "cell_type": "markdown",
      "metadata": {
        "id": "zSTBjJrUsNjh"
      },
      "source": [
        "### But First, Learning Tips!\n",
        "\n",
        "1. Before clicking \\[ ▶ Run \\] to see the result from running the code, **make a guess of what the final result would be** before actually running it.\n",
        "2. **Do not be afraid to play around with code**: change them, re-run the code, and see if the new result meets your expectation.\n",
        "3. Got error messages? Relax. Even experienced programmers got these so-called bugs! **Pause for a few seconds and see why the code produces such error.**\n"
      ]
    },
    {
      "cell_type": "markdown",
      "metadata": {
        "id": "EUysvkwFAE4Y"
      },
      "source": [
        "## 1. Basic Arithmetics\n",
        "\n",
        "Python can run simple math expressions out of the box.\n",
        "So expressions like `2 + 2` will produce the final result 4.\n",
        "\n",
        "Try running the code below by hitting \\[ ▶ Run \\] button.\n"
      ]
    },
    {
      "cell_type": "code",
      "execution_count": 1,
      "metadata": {
        "colab": {
          "base_uri": "https://localhost:8080/"
        },
        "id": "49uHsFau_6EV",
        "outputId": "1a3d543b-b61f-491c-d026-3daf64e47180"
      },
      "outputs": [
        {
          "data": {
            "text/plain": [
              "4"
            ]
          },
          "execution_count": 1,
          "metadata": {},
          "output_type": "execute_result"
        }
      ],
      "source": [
        "2 + 2\n"
      ]
    },
    {
      "cell_type": "markdown",
      "metadata": {
        "id": "J4VZisvrvZus"
      },
      "source": [
        "Since there is no $\\times$ (times) and $\\div$ (divide) symbol on the keyword, we instead use symbols `*` and `/` instead.\n"
      ]
    },
    {
      "cell_type": "code",
      "execution_count": 2,
      "metadata": {
        "colab": {
          "base_uri": "https://localhost:8080/"
        },
        "id": "H4rQ0UGeurJM",
        "outputId": "ae279ffb-adef-4691-be0d-4153a09b2c8a"
      },
      "outputs": [
        {
          "data": {
            "text/plain": [
              "5.666666666666667"
            ]
          },
          "execution_count": 2,
          "metadata": {},
          "output_type": "execute_result"
        }
      ],
      "source": [
        "17 / 3\n"
      ]
    },
    {
      "cell_type": "code",
      "execution_count": 3,
      "metadata": {
        "colab": {
          "base_uri": "https://localhost:8080/"
        },
        "id": "RcdY6ZsUAIDt",
        "outputId": "46387359-b9c7-4708-ee63-835ca2cd4276",
        "scrolled": false
      },
      "outputs": [
        {
          "data": {
            "text/plain": [
              "20"
            ]
          },
          "execution_count": 3,
          "metadata": {},
          "output_type": "execute_result"
        }
      ],
      "source": [
        "50 - 5 * 6\n"
      ]
    },
    {
      "cell_type": "markdown",
      "metadata": {
        "id": "_mPi0m45urJM"
      },
      "source": [
        "Notice that in the above code, multiplication `*` is evaluated before subtraction `-`. This is due to what is called the **order of precedence**.\n",
        "\n",
        "So if we want to do subtraction first, we need a pair of parentheses, `(` and `)`, just like in math!\n"
      ]
    },
    {
      "cell_type": "code",
      "execution_count": 4,
      "metadata": {
        "id": "BgUOcTAturJM"
      },
      "outputs": [
        {
          "data": {
            "text/plain": [
              "270"
            ]
          },
          "execution_count": 4,
          "metadata": {},
          "output_type": "execute_result"
        }
      ],
      "source": [
        "(50 - 5) * 6\n"
      ]
    },
    {
      "cell_type": "markdown",
      "metadata": {
        "id": "Jaqy2MI_urJN"
      },
      "source": [
        "### Example: Temperature Conversion\n",
        "\n",
        "Now for our very first application! Let’s say that a weather app tells us that the current weather in Galapagos Island is **100°F** (Farenheit). We want to know what is this temperature value in Celcius.\n",
        "\n",
        "We will use the following identity to help us with unit conversion:\n",
        "\n",
        "> $\\dfrac{C}{5} = \\dfrac{F - 32}{9} \\quad\\Longleftrightarrow\\quad C = \\dfrac{F - 32}{9} \\times 5$\n",
        "\n",
        "And below is the code to convert 100°F into °C.\n"
      ]
    },
    {
      "cell_type": "code",
      "execution_count": 5,
      "metadata": {
        "id": "3ibrAGDJurJN"
      },
      "outputs": [
        {
          "data": {
            "text/plain": [
              "37.77777777777778"
            ]
          },
          "execution_count": 5,
          "metadata": {},
          "output_type": "execute_result"
        }
      ],
      "source": [
        "((100 - 32) / 9) * 5\n"
      ]
    },
    {
      "cell_type": "markdown",
      "metadata": {
        "id": "Z0Rx4B6DurJN"
      },
      "source": [
        "Once you have got familiarity with the **order of precedence**, then you will notice that we can remove the redundant pair of parentheses:\n"
      ]
    },
    {
      "cell_type": "code",
      "execution_count": 6,
      "metadata": {
        "id": "-eL8CGSSurJN"
      },
      "outputs": [
        {
          "data": {
            "text/plain": [
              "37.77777777777778"
            ]
          },
          "execution_count": 6,
          "metadata": {},
          "output_type": "execute_result"
        }
      ],
      "source": [
        "(100 - 32) / 9 * 5\n"
      ]
    },
    {
      "cell_type": "markdown",
      "metadata": {
        "id": "zJrTqwCzurJN"
      },
      "source": [
        "### Example: Compound Interest (Exponentiation)\n",
        "\n",
        "Suppose that we have **THB 10,000** (Thai Baht) in a savings account. Every year we receive **3% interest**, which is then compounded into your account for the subsequent year. If we leave our account alone for **12 years**, how much total money would we have at the end?\n",
        "\n",
        "The answer is THB $10000 \\times 1.03^{12}$ (with some rounding errors). Translating this into the Python code as follows.\n"
      ]
    },
    {
      "cell_type": "code",
      "execution_count": 7,
      "metadata": {
        "id": "N14F6eXnurJO"
      },
      "outputs": [
        {
          "data": {
            "text/plain": [
              "14257.60886846179"
            ]
          },
          "execution_count": 7,
          "metadata": {},
          "output_type": "execute_result"
        }
      ],
      "source": [
        "10_000 * 1.03 * 1.03 * 1.03 * 1.03 * 1.03 * 1.03 * 1.03 * 1.03 * 1.03 * 1.03 * 1.03 * 1.03\n"
      ]
    },
    {
      "cell_type": "code",
      "execution_count": 8,
      "metadata": {},
      "outputs": [
        {
          "data": {
            "text/plain": [
              "11255.0881"
            ]
          },
          "execution_count": 8,
          "metadata": {},
          "output_type": "execute_result"
        }
      ],
      "source": [
        "10_000 * 1.03 * 1.03 * 1.03 * 1.03\n"
      ]
    },
    {
      "cell_type": "markdown",
      "metadata": {
        "id": "PxN5l_E1urJO"
      },
      "source": [
        "You should have got approximately 14257.61 THB as the result (if not, check the work again).\n",
        "\n",
        "Yes, the above code looks very tiring. Luckily, we can use the `**` operator to perform exponentiation for us.\n"
      ]
    },
    {
      "cell_type": "code",
      "execution_count": 9,
      "metadata": {
        "id": "XmNV2KZburJO"
      },
      "outputs": [
        {
          "data": {
            "text/plain": [
              "14257.608868461793"
            ]
          },
          "execution_count": 9,
          "metadata": {},
          "output_type": "execute_result"
        }
      ],
      "source": [
        "10_000 * (1.03 ** 12)\n"
      ]
    },
    {
      "cell_type": "markdown",
      "metadata": {
        "id": "9NRe0EkMqhDE"
      },
      "source": [
        "**Tips:** The exponentiation also works for negative numbers. Do the results below surprise you?\n"
      ]
    },
    {
      "cell_type": "markdown",
      "metadata": {},
      "source": [
        "> $5^{-1} = \\dfrac{1}{5^1}$"
      ]
    },
    {
      "cell_type": "code",
      "execution_count": 10,
      "metadata": {
        "id": "ZrN1YVt4urJO"
      },
      "outputs": [
        {
          "data": {
            "text/plain": [
              "0.2"
            ]
          },
          "execution_count": 10,
          "metadata": {},
          "output_type": "execute_result"
        }
      ],
      "source": [
        "5 ** -1\n"
      ]
    },
    {
      "cell_type": "markdown",
      "metadata": {},
      "source": [
        "> $(-2)^{0.5} = (-2)^{1/2} = \\sqrt{-2}$ \n"
      ]
    },
    {
      "cell_type": "code",
      "execution_count": 11,
      "metadata": {
        "id": "lMqlsNQ7qoM4"
      },
      "outputs": [
        {
          "data": {
            "text/plain": [
              "(6.123233995736766e-17+1j)"
            ]
          },
          "execution_count": 11,
          "metadata": {},
          "output_type": "execute_result"
        }
      ],
      "source": [
        "(-1) ** 0.5\n"
      ]
    },
    {
      "cell_type": "markdown",
      "metadata": {
        "id": "b3JCPyU0urJO"
      },
      "source": [
        "### Aside: Real Division vs Integer Division\n",
        "\n",
        "Recall that the result of `17 / 3` from above produces a real number result.  \n",
        "But what if you want the final _without the fractional part_ (also called a **quotient**)?\n",
        "\n",
        "The answer is to use the `//` operator.\n"
      ]
    },
    {
      "cell_type": "code",
      "execution_count": 12,
      "metadata": {
        "id": "8V-FeZGlurJP"
      },
      "outputs": [
        {
          "data": {
            "text/plain": [
              "5"
            ]
          },
          "execution_count": 12,
          "metadata": {},
          "output_type": "execute_result"
        }
      ],
      "source": [
        "17 // 3\n"
      ]
    },
    {
      "cell_type": "markdown",
      "metadata": {
        "id": "GTBwqOJAurJP"
      },
      "source": [
        "What about the **remainder** of the above division? Can we compute this value?\n",
        "\n",
        "One way to look at this is to consider the equation $17 = 5 \\times 3 + 2$, which gives us the remainder value 2.\n",
        "\n",
        "Let’s work backward in order to obtain the formula that we can use in our code. Suppose that $A$ (_Thai._ ตังตั้ง) divided by $B$ (_Thai._ ตัวหาร) produces the **quotient** $Q$ (_Thai._ ผลหาร) and the **remainder** $R$ (_Thai._ เศษ). So we have the follow equation.\n",
        "\n",
        "> $A = Q \\times B + R \\quad \\Longleftrightarrow \\quad R = A - Q \\times B$\n",
        "\n",
        "And here is the Python code to compute the remainder from dividing 17 by 3.\n"
      ]
    },
    {
      "cell_type": "code",
      "execution_count": 13,
      "metadata": {
        "id": "R0MVhYoNurJP"
      },
      "outputs": [
        {
          "data": {
            "text/plain": [
              "2"
            ]
          },
          "execution_count": 13,
          "metadata": {},
          "output_type": "execute_result"
        }
      ],
      "source": [
        "17 - (17 // 3) * 3\n"
      ]
    },
    {
      "cell_type": "markdown",
      "metadata": {
        "id": "MsmkDOZAurJP"
      },
      "source": [
        "Whew, that was a lot of work! Luckily, we can achieve the same result simply by using the **modulo** operator: `%`.\n"
      ]
    },
    {
      "cell_type": "code",
      "execution_count": 14,
      "metadata": {
        "id": "iPH5Hz00urJP"
      },
      "outputs": [
        {
          "data": {
            "text/plain": [
              "2"
            ]
          },
          "execution_count": 14,
          "metadata": {},
          "output_type": "execute_result"
        }
      ],
      "source": [
        "17 % 3\n"
      ]
    },
    {
      "cell_type": "markdown",
      "metadata": {
        "id": "yxkpykG81ZNT"
      },
      "source": [
        "_Did you notice a recurring theme?_ In Python (as well as other programming languages), we have all these handy operations at our disposal which help us shorten our workload. Later in this session, we will also learn how to create one ourselves, with functions.\n",
        "\n",
        "Lastly, before we move on, what is the result of dividing -17 by 3? Make a guess before running the code.\n"
      ]
    },
    {
      "cell_type": "code",
      "execution_count": 15,
      "metadata": {
        "id": "60USCoJfurJQ"
      },
      "outputs": [
        {
          "data": {
            "text/plain": [
              "-6"
            ]
          },
          "execution_count": 15,
          "metadata": {},
          "output_type": "execute_result"
        }
      ],
      "source": [
        "-17 // 3\n"
      ]
    },
    {
      "cell_type": "code",
      "execution_count": 16,
      "metadata": {
        "id": "37MwRysIurJQ"
      },
      "outputs": [
        {
          "data": {
            "text/plain": [
              "1"
            ]
          },
          "execution_count": 16,
          "metadata": {},
          "output_type": "execute_result"
        }
      ],
      "source": [
        "-17 % 3\n"
      ]
    },
    {
      "cell_type": "markdown",
      "metadata": {
        "id": "F3EzVAvhhlUn"
      },
      "source": [
        "## 2. Variables\n"
      ]
    },
    {
      "cell_type": "markdown",
      "metadata": {
        "id": "3h4HJCRz9UQT"
      },
      "source": [
        "### Example: Quadratic Equation\n",
        "\n",
        "Let’s consider a high school math problem. How do we solve for $x$ in the following quadratic equation.\n",
        "\n",
        "> $ax^2 + bx + c = 0$\n",
        "\n",
        "According to high school math, there are two solutions according to this formula:\n",
        "\n",
        "> $x = \\dfrac{-b \\pm \\sqrt{b^2 - 4ac}}{2a}$\n",
        "\n",
        "**Question:** What are the solutions to the equation $2x^2 + 7x + 3 = 0$\n",
        "\n",
        "We need two separate pieces of codes, one for $+\\sqrt{b^2 - 4ac}$ and another for $-\\sqrt{b^2 - 4ac}$.\n"
      ]
    },
    {
      "cell_type": "code",
      "execution_count": 17,
      "metadata": {
        "id": "yDemLQFq9ZFQ"
      },
      "outputs": [
        {
          "data": {
            "text/plain": [
              "-0.5"
            ]
          },
          "execution_count": 17,
          "metadata": {},
          "output_type": "execute_result"
        }
      ],
      "source": [
        "(-7 + (7**2 - 4*2*3) ** 0.5) / (2*2)\n"
      ]
    },
    {
      "cell_type": "code",
      "execution_count": 18,
      "metadata": {
        "id": "sLMAgIHb_Jx8"
      },
      "outputs": [
        {
          "data": {
            "text/plain": [
              "-3.0"
            ]
          },
          "execution_count": 18,
          "metadata": {},
          "output_type": "execute_result"
        }
      ],
      "source": [
        "(-7 - (7**2 - 4*2*3) ** 0.5) / (2*2)\n"
      ]
    },
    {
      "cell_type": "markdown",
      "metadata": {
        "id": "MUhKMQ65_l_f"
      },
      "source": [
        "Did you see that we have to type almost the exact same code twice? If you think that this is troublesome, you are not alone. Programmers hate repeating themselves as much as you do.\n",
        "\n",
        "We will divide our workload into smaller steps and avoid recomputing the same values as much as possible.\n",
        "\n",
        "> $r = \\sqrt{b^2 - 4ac}$  \n",
        "> $x_1 = \\dfrac{-b + r}{2a}$  \n",
        "> $x_2 = \\dfrac{-b - r}{2a}$\n",
        "\n",
        "In order to reuse intermediate result $k$ for subsequent computations, we need to use **variables**. The above steps can be translated into the following code.\n"
      ]
    },
    {
      "cell_type": "code",
      "execution_count": 19,
      "metadata": {
        "id": "shkR45GCAxcg"
      },
      "outputs": [
        {
          "name": "stdout",
          "output_type": "stream",
          "text": [
            "-0.5 -3.0\n"
          ]
        }
      ],
      "source": [
        "a = 2\n",
        "b = 7\n",
        "c = 3\n",
        "\n",
        "r = (b**2 - 4*a*c) ** 0.5\n",
        "x1 = (-b + r) / (2*a)\n",
        "x2 = (-b - r) / (2*a)\n",
        "\n",
        "print(x1, x2)\n"
      ]
    },
    {
      "cell_type": "markdown",
      "metadata": {
        "id": "2dRv5OWUCDUF"
      },
      "source": [
        "Not only we did introduce a variable for intermediate result `r`, we introduce a whole lot of variables for coefficients `a`, `b`, `c`, as well as for solutions `x1` and `x2`. What is nice about this approach is that, if you want to solve other quadratic equations of the same form, you can just simply change values for `a`, `b`, and `c`, and rerun the code.\n",
        "\n",
        "Try playing around, changing values for `a`, `b`, and `c`.\n",
        "\n",
        "---\n",
        "\n",
        "There are a few things you must know.\n",
        "\n",
        "- Python code generally runs from top to bottom. So shuffling lines of code may produce unintended consequences.\n",
        "- The code `<variable> = <expression>` represents an assignment of values to the right of `=` symbol into a **variable** whose name is shown on the left. Swapping the location of these two things will produce an error (try for yourself).\n",
        "- Expressions may refer to variables which have been assigned previously. For example, see how the assignment of `k` refers to `a`, `b`, `c` above it. Then, `x1` and `x2` both take turn to refer to `k`. As mentioned earlier, swapping these lines may break things.\n",
        "\n",
        "Try executing the following code and see what kind of error it produces.\n",
        "\n",
        "```python\n",
        "height = 1080\n",
        "width = 1080 * 16 / 9\n",
        "area = width * height\n",
        "print(area)\n",
        "```\n"
      ]
    },
    {
      "cell_type": "code",
      "execution_count": 24,
      "metadata": {
        "id": "5Ts8A0Q5AyEw"
      },
      "outputs": [
        {
          "name": "stdout",
          "output_type": "stream",
          "text": [
            "2073600.0\n"
          ]
        }
      ],
      "source": [
        "height = 1080\n",
        "width = 1080 * 16 / 9\n",
        "area = width * height\n",
        "print(area)\n"
      ]
    },
    {
      "cell_type": "markdown",
      "metadata": {
        "id": "iyep_gu-_uR4"
      },
      "source": [
        "Fix the code above so that it runs correctly. In the end you should get the area of 2,073,600.\n"
      ]
    },
    {
      "cell_type": "markdown",
      "metadata": {
        "id": "-UPZnbseFIFY"
      },
      "source": [
        "### Aside: Statements By Themselves Do Not Produce Value\n",
        "\n",
        "We have already seen the assignment statements (of the form `<variable> = <expression>`). In the code above, if we remove the line `print(area)`, we will see no output. In Python specifically, there is a distinction between an **expression** and a **statement**. Expressions always produce value, but statements do not.\n",
        "\n",
        "However, statements may partially contain expressions, just like what we have seen with assignment statements, but in this case, the value is stored into a variable and is not shown to us. _That_ is the reason why the code to compute `area` from multiplying `width` and `height` does not display any result if `print(area)` is absent; `print` tells python to display the content of `area`.\n",
        "\n",
        "To be precise, `print(...)` will _print_ out anything it receives; whatever we put between the pair of parentheses is called **input arguments** to a function. So you can also print the following.\n"
      ]
    },
    {
      "cell_type": "code",
      "execution_count": 25,
      "metadata": {
        "id": "l6JqB0ZHHIwq"
      },
      "outputs": [
        {
          "name": "stdout",
          "output_type": "stream",
          "text": [
            "15\n"
          ]
        }
      ],
      "source": [
        "print(1 + 2 + 3 + 4 + 5)\n"
      ]
    },
    {
      "cell_type": "markdown",
      "metadata": {
        "id": "IZH4RkmnHNh2"
      },
      "source": [
        "As a special case for Python Notebook (this piece of web application software we are currently using), an expression by itself will have its result be printed out as well. **Warning:** This is not true for general Python code.\n"
      ]
    },
    {
      "cell_type": "code",
      "execution_count": 26,
      "metadata": {
        "id": "wmc9OBclHkRG"
      },
      "outputs": [
        {
          "data": {
            "text/plain": [
              "15"
            ]
          },
          "execution_count": 26,
          "metadata": {},
          "output_type": "execute_result"
        }
      ],
      "source": [
        "1 + 2 + 3 + 4 + 5\n"
      ]
    },
    {
      "cell_type": "code",
      "execution_count": 27,
      "metadata": {
        "id": "Y0o6gG5LHua2"
      },
      "outputs": [
        {
          "data": {
            "text/plain": [
              "2073600.0"
            ]
          },
          "execution_count": 27,
          "metadata": {},
          "output_type": "execute_result"
        }
      ],
      "source": [
        "area\n"
      ]
    },
    {
      "cell_type": "markdown",
      "metadata": {
        "id": "rW7cBFmduFB9"
      },
      "source": [
        "### Aside: Code Comments\n",
        "\n",
        "We can provide additional notes to our code using what are called **comments**. In Python, a comment begins with `#` and the rest of the line will not be interpreted by Python. For example,\n"
      ]
    },
    {
      "cell_type": "code",
      "execution_count": 28,
      "metadata": {
        "id": "zOB-7TxKua7v"
      },
      "outputs": [
        {
          "name": "stdout",
          "output_type": "stream",
          "text": [
            "5.0\n"
          ]
        }
      ],
      "source": [
        "# Computing the distance from the origin (0, 0) to (x, y)\n",
        "x = 4\n",
        "y = -3\n",
        "distance_from_origin = ((x ** 2) + (y ** 2)) ** 0.5  # Pythagorean Theorem\n",
        "print(distance_from_origin)\n"
      ]
    },
    {
      "cell_type": "markdown",
      "metadata": {
        "id": "sp-RXeOLvnI5"
      },
      "source": [
        "It is best to add comments to explain the logic behind the code if it would not be obvious by itself. You will thank yourself later.\n"
      ]
    },
    {
      "cell_type": "markdown",
      "metadata": {
        "id": "t6ksl8oahsmP"
      },
      "source": [
        "## 3. Functions\n"
      ]
    },
    {
      "cell_type": "markdown",
      "metadata": {
        "id": "HEGSm9bJt2UW"
      },
      "source": [
        "### Example: Games With Random Loot\n",
        "\n",
        "Now it’s time to talk about games with Random Number Generators (RNG). Let’s say that a certain rare item has a drop rate of 0.3% from a loot box (that is three in a thousand chance). What is the chance that we win at least one such item within 10 loot boxes?\n",
        "\n",
        "Let’s write some code to find out.  \n",
        "**Note:** `format(..., '%')` function turns numbers into percentage form when printed.\n"
      ]
    },
    {
      "cell_type": "code",
      "execution_count": 29,
      "metadata": {
        "id": "O4KUfvwmt2zz"
      },
      "outputs": [
        {
          "name": "stdout",
          "output_type": "stream",
          "text": [
            "2.959822%\n"
          ]
        }
      ],
      "source": [
        "drop_rate = 0.003\n",
        "n_attempts = 10\n",
        "\n",
        "fail_once_prob = 1 - drop_rate\n",
        "fail_all_prob = fail_once_prob ** n_attempts\n",
        "winning_prob = 1 - fail_all_prob\n",
        "\n",
        "print(format(winning_prob, \"%\"))\n"
      ]
    },
    {
      "cell_type": "markdown",
      "metadata": {
        "id": "uoN2r3uty4Kv"
      },
      "source": [
        "Not bad. The probability jumps to almost around 3%. Well, how about 100 loot boxes?\n",
        "\n",
        "We can just modify the previous code and set `n_attempts` to `100`, but then we will lose track of history of all previous computations. It would be nice to keep some previous results available for inspection.\n",
        "\n",
        "**Did you know?** In scientific community, scientists maintain what is called a lab notebook, and it is considered unethical to make something disappear from lab notebooks. Do not worry, we are not doing something that serious here.\n",
        "\n",
        "We instead will duplicate the code from above and modify the number to `n_attempts = 100`.\n"
      ]
    },
    {
      "cell_type": "code",
      "execution_count": 30,
      "metadata": {
        "id": "CIAYrYKf1nlJ"
      },
      "outputs": [
        {
          "name": "stdout",
          "output_type": "stream",
          "text": [
            "25.951574%\n"
          ]
        }
      ],
      "source": [
        "drop_rate = 0.003\n",
        "n_attempts = 100\n",
        "\n",
        "fail_once_prob = 1 - drop_rate\n",
        "fail_all_prob = fail_once_prob ** n_attempts\n",
        "winning_prob = 1 - fail_all_prob\n",
        "\n",
        "print(format(winning_prob, \"%\"))\n"
      ]
    },
    {
      "cell_type": "markdown",
      "metadata": {
        "id": "C3PjJzqi1rPi"
      },
      "source": [
        "What if we want to perform this computation again for other number of attempts? Are we _really_ going to copy this chuck of code again? One philosophy of programmers (or for any people who are sufficiently lazy) is to avoid repeating ourselves.\n",
        "\n",
        "We will combine the entire chunk our code into a single unit of workload, by defining a **function**.\n",
        "\n",
        "We begin first with our code:\n"
      ]
    },
    {
      "cell_type": "code",
      "execution_count": 31,
      "metadata": {
        "id": "syJn2DcA3Yn_"
      },
      "outputs": [
        {
          "name": "stdout",
          "output_type": "stream",
          "text": [
            "2.959822%\n",
            "25.951574%\n",
            "95.043692%\n"
          ]
        }
      ],
      "source": [
        "def compute_winning_prob(drop_rate, n_attempts):\n",
        "    fail_once_prob = 1 - drop_rate\n",
        "    fail_all_prob = fail_once_prob ** n_attempts\n",
        "    winning_prob = 1 - fail_all_prob\n",
        "    return winning_prob\n",
        "\n",
        "\n",
        "# Making calls to the above function\n",
        "winning_prob_10_attempts = compute_winning_prob(0.003, 10)\n",
        "print(format(winning_prob_10_attempts, \"%\"))\n",
        "\n",
        "# For better readability, input argument names can be specified too\n",
        "winning_prob_100_attempts = compute_winning_prob(\n",
        "    drop_rate=0.003, n_attempts=100)\n",
        "print(format(winning_prob_100_attempts, \"%\"))\n",
        "\n",
        "# The result of calling a function can be input to another function\n",
        "print(format(compute_winning_prob(0.003, 1000), \"%\"))\n"
      ]
    },
    {
      "cell_type": "markdown",
      "metadata": {
        "id": "px5xAjUULBmU"
      },
      "source": [
        "Let’s look at the function definition:\n",
        "\n",
        "```python\n",
        "def compute_winning_prob(drop_rate, n_attempts):\n",
        "    fail_once_prob = 1 - drop_rate\n",
        "    fail_all_prob = fail_once_prob ** n_attempts\n",
        "    winning_prob = 1 - fail_all_prob\n",
        "    return winning_prob\n",
        "```\n",
        "\n",
        "It consists of the following:\n",
        "\n",
        "- Function name, `compute_winning_prob`\n",
        "- Input arguments, `drop_rate` and `n_attempts`\n",
        "- Function body. In this case, they are all four lines of indented code.\n",
        "- Output of the function is signified by the expression following the **`return`** keyword. (In cases where this return statement is missing from the function, `None` will be returned implicitly, a special constant value to indicate an absence of data.)\n",
        "\n",
        "Here is the fundamental concepts of computation: a function consists of **inputs** and **outputs** (it may also sometimes has side-effects, but let’s ignore this fact for the moment). The above function receives two inputs, `drop_rate` and `n_attempts`, and produces the winning probability as the output. The order of input arguments does matter. Make sure that the function call specifies these inputs in the same order as well.\n"
      ]
    },
    {
      "cell_type": "markdown",
      "metadata": {
        "id": "GOsmGVOgAPxe"
      },
      "source": [
        "#### Symmetry Between Function Definitions and Function Calls\n",
        "\n",
        "Notice that the first line of function definition and the function call pattern looks similar. This is a conscious design decision intended by Python core developers.\n",
        "\n",
        "```python\n",
        "def compute_winning_prob(drop_rate, n_attempts):\n",
        "```\n",
        "\n",
        "```python\n",
        "winning_prob = compute_winning_prob(drop_rate, n_attempts)\n",
        "```\n"
      ]
    },
    {
      "cell_type": "markdown",
      "metadata": {
        "id": "fvJTcyrgASnU"
      },
      "source": [
        "#### Function Docstring\n",
        "\n",
        "It is considered good practice to explain what our functions do inside the source code itself. In Python, the practice is to use docstring syntax to do so, like in the following. Generally, this should provide a **contract** whoever is using our functions, such as what are valid inputs, and what is the guarantee about the output.\n",
        "\n",
        "```python\n",
        "def compute_winning_prob(drop_rate, n_attempts):\n",
        "    \"\"\"Computes the probability of winning an item at least once\n",
        "    given the drop rate of such item and the number of attempts.\n",
        "\n",
        "    Arguments:\n",
        "        drop_rate: Probability rate of item being drop,\n",
        "            which must be a number within the range from 0.0 to 1.0\n",
        "        n_attempts: Number of attempts to claim such item,\n",
        "            which must be a positive integer.\n",
        "\n",
        "    Returns:\n",
        "        The probability of winning such item at least once.\n",
        "    \"\"\"\n",
        "    fail_once_prob = 1 - drop_rate\n",
        "    fail_all_prob = fail_once_prob ** n_attempts\n",
        "    winning_prob = 1 - fail_all_prob\n",
        "    return winning_prob\n",
        "```\n",
        "\n",
        "What’s more, you are unlikely to remember all code you have written after a day. Docstrings work just like post-it reminders.\n"
      ]
    },
    {
      "cell_type": "markdown",
      "metadata": {
        "id": "lF4eB64in3LV"
      },
      "source": [
        "### Exercise: Area of Triangle\n",
        "\n",
        "Write a function that computes the area of a triangle from lengths of its three sides ($A$, $B$, and $C$). Here is the Heron’s formula to implement in code.\n",
        "\n",
        "> $\\mathrm{Area} = \\sqrt{S(S-A)(S-B)(S-C)}$\n",
        ">\n",
        "> $S = \\dfrac{A + B + C}{2}$\n"
      ]
    },
    {
      "cell_type": "code",
      "execution_count": null,
      "metadata": {
        "id": "p0Z2F9cLqHJ1"
      },
      "outputs": [],
      "source": [
        "def area_of_triangle(a, b, c):\n",
        "    \"\"\"Computes the area of a triangle.\n",
        "\n",
        "    Arguments:\n",
        "        a: Non-negative length of the first side\n",
        "        b: Non-negative length of the second side\n",
        "        c: Non-negative length of the third side\n",
        "\n",
        "    Returns:\n",
        "        The area of the triangle whose side lengths are a, b, and c.\n",
        "    \"\"\"\n",
        "    ...  # your code here\n",
        "\n",
        "\n",
        "print(area_of_triangle(3, 4, 5))  # expected 6\n",
        "print(area_of_triangle(3, 3, 3))  # expected 3.8971\n",
        "print(area_of_triangle(2, 3, 8))  # expected ??????\n"
      ]
    },
    {
      "cell_type": "markdown",
      "metadata": {
        "id": "Sh9rURhshyyn"
      },
      "source": [
        "## 4. Conditionals\n"
      ]
    },
    {
      "cell_type": "markdown",
      "metadata": {
        "id": "46QhaxTwZW9m"
      },
      "source": [
        "### Example: Phases of H₂O\n",
        "\n",
        "We will write a function to determine the phase of H₂O at different temperatures. In a simplified model, at sea-level, water freezes (or ice melts) at 0°C whereas water evaporates (or steam condenses) at 100°C.\n",
        "\n",
        "Our function should receive a single number, which is the temperature of H₂O at sea-level. It should return the phase of H₂0, `\"ice\"`, `\"water\"`, or `\"steam\"`.\n"
      ]
    },
    {
      "cell_type": "code",
      "execution_count": null,
      "metadata": {
        "id": "G_twmikLcHGN"
      },
      "outputs": [],
      "source": [
        "def h2o_phase(celcius):\n",
        "    \"\"\"Determines the phases of H₂O given its temperature in Celcius.\"\"\"\n",
        "    print(\"input temperature is\", celcius)\n",
        "    if celcius <= 0:\n",
        "        print(\"    ice\")\n",
        "    if 0 <= celcius <= 100:\n",
        "        print(\"    water\")\n",
        "    if celcius >= 100:\n",
        "        print(\"    steam\")\n",
        "\n",
        "\n",
        "h2o_phase(25)\n",
        "h2o_phase(-273.15)\n",
        "h2o_phase(1948)\n",
        "h2o_phase(100)\n",
        "h2o_phase(0)\n"
      ]
    },
    {
      "cell_type": "markdown",
      "metadata": {
        "id": "QqaPJwKHheeb"
      },
      "source": [
        "When did the message `\"ice\"` get printed? Answer: when inputs were `-273.15` and `0` (both are 0°C or lower). Likewise, `\"water\"` got printed when inputs were `25`, `100`, and `0` (all are within range from 0°C to 100°C). The same goes for `\"steam\"`.\n",
        "\n",
        "You have probably noticed that the **if clause** the **condition** whether the body of the statement (the indented part under the if clause) should be executed.\n"
      ]
    },
    {
      "cell_type": "markdown",
      "metadata": {
        "id": "InkTz1CPdZJq"
      },
      "source": [
        "### Aside: Strings\n",
        "\n",
        "Strings are just textual data. In Python code, they mostly are written between a pair of **double quotes** `\"`:\n",
        "\n",
        "> e.g. `\"hello\"`, `\"Humuhumunukunukuapua'a is a type of fish.\"`, and `\"\"` (empty string)\n",
        "\n",
        "or between a pair of **single quotes** `'`:\n",
        "\n",
        "> e.g. `'กขคง'`, `'people say they know \"blockchain\"'`, and `'さよなら means goodbye'`\n"
      ]
    },
    {
      "cell_type": "code",
      "execution_count": null,
      "metadata": {
        "id": "l_aAhNyLgoYY"
      },
      "outputs": [],
      "source": [
        "print(\"hello\")\n",
        "print(\"Humuhumunukunukuapua'a is a type of fish.\")\n",
        "print(\"\")\n",
        "print('กขคง')\n",
        "print('people say they know \"blockchain\"')\n",
        "print('さよなら means goodbye')\n"
      ]
    },
    {
      "cell_type": "markdown",
      "metadata": {
        "id": "YOxMMcEwgo6a"
      },
      "source": [
        "Both double quotes and single quotes work fine, but we have to be consistent: the string must start and end with the same type of quotation characters.\n",
        "\n",
        "Also, it is tricky for a text to include a double quote inside a string which begins and ends with double quotes (same goes for single quotes). To do so, we need what is called **character escaping**. Specifically, we will need to prepend the double quote with a backslash inside a string:\n"
      ]
    },
    {
      "cell_type": "code",
      "execution_count": null,
      "metadata": {
        "id": "A-EScbS5hFI4"
      },
      "outputs": [],
      "source": [
        "print('Humuhumunukunukuapua\\'a is a type of fish.')\n",
        "print(\"people say they know \\\"blockchain\\\"\")\n"
      ]
    },
    {
      "cell_type": "markdown",
      "metadata": {
        "id": "T8jWStuahZQQ"
      },
      "source": [
        "### Example: Air Quality Index\n",
        "\n",
        "For the past few years, we have experienced increasing air pollution. For this task, we will write a function to translate AQI integer values (input) into category colors (output). Here is the summary:\n",
        "\n",
        "| AQI Values | Category                       | Colors |\n",
        "| ---------- | ------------------------------ | ------ |\n",
        "| 0 - 50     | Good                           | Green  |\n",
        "| 51 - 100   | Moderate                       | Yellow |\n",
        "| 100 - 150  | Unhealthy For Sensitive Groups | Orange |\n",
        "| 151 - 200  | Unhealthy                      | Red    |\n",
        "| 201 - 300  | Very Unhealthy                 | Purple |\n",
        "| 301 - 500  | Hazardous                      | Maroon |\n",
        "\n",
        "And here is how we could implement this function:\n"
      ]
    },
    {
      "cell_type": "code",
      "execution_count": null,
      "metadata": {
        "id": "Tkr_ci2_mjZF"
      },
      "outputs": [],
      "source": [
        "def aqi_category_color(aqi_value):\n",
        "    \"\"\"Computes the category color of an AQI value.\n",
        "\n",
        "    Arguments:\n",
        "        aqi_value: Integer value of Air Quality Index\n",
        "            within a range from 0 to 500\n",
        "\n",
        "    Returns:\n",
        "        A string representing the category color\n",
        "    \"\"\"\n",
        "    if aqi_value <= 50:\n",
        "        return 'green'\n",
        "    elif aqi_value <= 100:\n",
        "        return 'yellow'\n",
        "    elif aqi_value <= 150:\n",
        "        return 'orange'\n",
        "    elif aqi_value <= 200:\n",
        "        return 'red'\n",
        "    elif aqi_value <= 300:\n",
        "        return 'purple'\n",
        "    else:\n",
        "        return 'maroon'\n",
        "\n",
        "\n",
        "print('Color status of AQI 25 is', aqi_category_color(25))\n",
        "print('Color status of AQI 125 is', aqi_category_color(125))\n",
        "print('Color status of AQI 225 is', aqi_category_color(225))\n",
        "print('Color status of AQI 325 is', aqi_category_color(325))\n"
      ]
    },
    {
      "cell_type": "markdown",
      "metadata": {
        "id": "5Se1GPJVnYvY"
      },
      "source": [
        "This function differs from `phase_h2o` in a couple of ways:\n",
        "\n",
        "- Function `aqi_category_color` itself does _not_ **`print`** any strings. It instead returns a string as output, which then got feeded into **`print`** function outside. This approach is generally preferable because the computational logic is separated from the presentation.\n",
        "- Function `aqi_category_color` introduces sibling clauses **`elif`** and **`else`** to if statements. As you may have guessed, **`elif`** and **`else`** clauses are even considered at all when the previous clauses are false.\n",
        "\n",
        "Let’s break down the code a bit further.\n",
        "\n",
        "- AQI value 125 converts to `\"yellow\"` because `aqi_value <= 50` was false, but `aqi_value <= 100` was true.\n",
        "- AQI value 325 converts to `\"maroon\"` because all previous **`if`** and **`elif`** clauses were false.\n"
      ]
    },
    {
      "cell_type": "markdown",
      "metadata": {
        "id": "y4Fbf-86nguB"
      },
      "source": [
        "### Aside: Booleans\n",
        "\n",
        "Boolean is a type of data that has two possible values, **`True`** and **`False`**. It is commonly used in predicate logic or for representing binary states (such as **on** or **off**).\n",
        "\n",
        "We have dealt with boolean data before, but we have not inspected them closely. Take a look at a few bunch of the following inequalities.\n"
      ]
    },
    {
      "cell_type": "code",
      "execution_count": null,
      "metadata": {
        "id": "Q62o1p8So6bI"
      },
      "outputs": [],
      "source": [
        "two = 2\n",
        "\n",
        "print(1 < 2)  # less than (<)\n",
        "print(2 + 2 == 4)  # equal (=)\n",
        "print(-123 >= 123)  # greater or equal to (≥)\n",
        "print(two > two)  # greater (>)\n",
        "print(100 != two)  # not equal (≠)\n",
        "print(3 <= 3)  # less than or equal to (≤)\n",
        "print(\"x\" in \"styrofoam\")\n",
        "print(\"x\" in \"xylophone\")\n"
      ]
    },
    {
      "cell_type": "markdown",
      "metadata": {
        "id": "Hpj6jtOCqtlx"
      },
      "source": [
        "Remember Logic in high school math. Here is what you are waiting for.\n"
      ]
    },
    {
      "cell_type": "code",
      "execution_count": null,
      "metadata": {
        "id": "RmjUkj5_qloC"
      },
      "outputs": [],
      "source": [
        "booleans = [True, False]\n",
        "\n",
        "for x in booleans:\n",
        "    for y in booleans:\n",
        "        print(x, \"and\", y, \"is\", x and y)\n",
        "        print(x, \" or\", y, \"is\", x or y)\n",
        "        print()\n",
        "\n",
        "for x in booleans:\n",
        "    print(\"not\", x, \"is\", not x)\n"
      ]
    },
    {
      "cell_type": "markdown",
      "metadata": {
        "id": "KG6vIgcwqLr-"
      },
      "source": [
        "## 5. Lists and For Loops\n",
        "\n",
        "Imagine that we are given a sequence of values (e.g. numbers, strings, or even more complex data) and we want to learn something about this sequence. Tasks like this include:\n",
        "\n",
        "- **Aggregations:** for the given list of values, compute their sum (or the maximum value, or count the number of unique values, or their average, etc.)\n",
        "- **Sorting:** order the list according to its value (or based on its derivatives)\n",
        "- **Filtering:** find which values in the list satisfy a given condition (usually called a predicate)\n",
        "- and a whole lot others!\n"
      ]
    },
    {
      "cell_type": "markdown",
      "metadata": {
        "id": "SKmfMYhs0eya"
      },
      "source": [
        "### Example: Computing Average\n",
        "\n",
        "We begin with a list of `numbers` and we will compute their average (arithmetic mean).\n"
      ]
    },
    {
      "cell_type": "code",
      "execution_count": null,
      "metadata": {
        "id": "JUcxyyNysxXT"
      },
      "outputs": [],
      "source": [
        "def compute_average(numbers):\n",
        "    \"\"\"Computes the average of a given list of numbers.\"\"\"\n",
        "    total = 0\n",
        "    count = 0\n",
        "    for n in numbers:\n",
        "        total = total + n\n",
        "        count = count + 1\n",
        "    average = total / count\n",
        "    return average\n",
        "\n",
        "\n",
        "numbers = [34, 13, 62, 91, 87, 66, 29, 17, 83, 55, 44]\n",
        "average_number = compute_average(numbers)\n",
        "print(\"The average number is\", format(average_number, '.3f'))\n"
      ]
    },
    {
      "cell_type": "markdown",
      "metadata": {
        "id": "x9I9szHot_BQ"
      },
      "source": [
        "Let’s walk through this code together.\n",
        "\n",
        "First of all, look at the first line of code. It declares a list of 11 integers, and stores into a variable called `numbers`.\n",
        "\n",
        "```python\n",
        "numbers = [34, 13, 62, 91, 87, 66, 29, 17, 83, 55, 44]\n",
        "```\n",
        "\n",
        "Next, skip the for clause for a moment and look at its **body** (the indented part of the for statement). Look at the assignment statements below.\n",
        "\n",
        "```python\n",
        "    total = total + value\n",
        "    count = count + 1\n",
        "```\n",
        "\n",
        "What essentially happens here is that, variable `total` updates its value by an increment of `n`, whereas variable `count` bumps up its own value by `1`.\n",
        "\n",
        "Now for the interpretation of the main **for clause**,\n",
        "\n",
        "```python\n",
        "for n in numbers:\n",
        "```\n",
        "\n",
        "It means that the body of the for statement has to be executed **once for each value** (called `n`) in the list of values (called `numbers`).\n",
        "\n",
        "With `total` and `count` being initialized at 0, at the end,\n",
        "\n",
        "- `total` will have accumulated the _total_ of numbers in the list, and\n",
        "- `count` will be the _count_ of numbers in the list (sometimes called the _length_).\n",
        "\n",
        "And thus, we have all necessary data to compute the average as the final result.\n",
        "\n",
        "---\n",
        "\n",
        "By the way, there are Python built-in functions **`sum`** and **`len`** that would compute the total and the count of values in the list for us. In the future, there will also be other ways to compute the mean of a sequence of values in a single function.\n"
      ]
    },
    {
      "cell_type": "code",
      "execution_count": null,
      "metadata": {
        "id": "1yS6WCko5PY2"
      },
      "outputs": [],
      "source": [
        "numbers = [34, 13, 62, 91, 87, 66, 29, 17, 83, 55, 44]\n",
        "average = sum(numbers) / len(numbers)\n",
        "print(\"The average number is\", format(average, '.3f'))\n"
      ]
    },
    {
      "cell_type": "markdown",
      "metadata": {
        "id": "r1mj13x70lPL"
      },
      "source": [
        "### Mini Guessing Game\n",
        "\n",
        "More guessing game! Look at each of the following code and guess what would happen once they are run.\n"
      ]
    },
    {
      "cell_type": "code",
      "execution_count": null,
      "metadata": {
        "id": "p0H_01vbypXi"
      },
      "outputs": [],
      "source": [
        "fruits = [\"apple\", \"banana\", \"cherry\", \"orange\"]\n",
        "for f in fruits:\n",
        "    print(f)\n"
      ]
    },
    {
      "cell_type": "code",
      "execution_count": null,
      "metadata": {
        "id": "T6CDDNQTKtaW"
      },
      "outputs": [],
      "source": [
        "for char in \"banana\":\n",
        "    print(char)\n"
      ]
    },
    {
      "cell_type": "code",
      "execution_count": null,
      "metadata": {
        "id": "t4OcsbryK9Jr"
      },
      "outputs": [],
      "source": [
        "adjectives = [\"red\", \"big\", \"tasty\"]\n",
        "fruits = [\"apple\", \"banana\", \"cherry\", \"orange\"]\n",
        "\n",
        "for a in adjectives:\n",
        "    for f in fruits:\n",
        "        print(a, f)\n"
      ]
    },
    {
      "cell_type": "code",
      "execution_count": null,
      "metadata": {
        "id": "-jIHorl1zUf5"
      },
      "outputs": [],
      "source": [
        "digits = [0, 1, 2, 3, 4, 5, 6, 7, 8, 9]\n",
        "\n",
        "for d in digits:\n",
        "    if 3 < d < 7:\n",
        "        print(d)\n",
        "\n",
        "for d in digits:\n",
        "    if d % 2 == 0:\n",
        "        print(d)\n"
      ]
    },
    {
      "cell_type": "markdown",
      "metadata": {
        "id": "QVO7cqxI0wpJ"
      },
      "source": [
        "### More List Operations\n",
        "\n",
        "Apart from iterating through each element in the list, we can operate on lists in a few diferent ways:\n",
        "\n",
        "[Python Documentation on List](https://docs.python.org/3/tutorial/datastructures.html#more-on-lists)\n"
      ]
    },
    {
      "cell_type": "markdown",
      "metadata": {
        "id": "3QlYEpi42kZ6"
      },
      "source": [
        "#### List Appending and Insertion\n"
      ]
    },
    {
      "cell_type": "code",
      "execution_count": null,
      "metadata": {
        "id": "m799j6Zq1Kly"
      },
      "outputs": [],
      "source": [
        "selected_letters = []\n",
        "for char in \"mississippi\":\n",
        "    if char in 'pie':  # char must be 'p', 'i', or 'e'\n",
        "        selected_letters.append(char)\n",
        "print(selected_letters)\n"
      ]
    },
    {
      "cell_type": "code",
      "execution_count": null,
      "metadata": {
        "id": "CXo6FQwv1q9I"
      },
      "outputs": [],
      "source": [
        "selected_letters = []\n",
        "for char in \"supercalifragilisticexpialidocious\":\n",
        "    if char < 'e' or char > 's':\n",
        "        selected_letters.insert(0, char)  # insert at the beginning\n",
        "print(selected_letters)\n"
      ]
    },
    {
      "cell_type": "code",
      "execution_count": null,
      "metadata": {
        "id": "yJrT1fM02ruX"
      },
      "outputs": [],
      "source": [
        "fruits = [\"apple\", \"banana\", \"cherry\", \"orange\"]\n",
        "selected_fruits = []\n",
        "for f in fruits:\n",
        "    if 'e' in f:  # fruit (f) must contain letter 'e'\n",
        "        selected_fruits.append(f)\n",
        "print(selected_fruits)\n"
      ]
    },
    {
      "cell_type": "markdown",
      "metadata": {
        "id": "2sw1gBiO4fr7"
      },
      "source": [
        "#### List Concatenation and Multiplication\n"
      ]
    },
    {
      "cell_type": "code",
      "execution_count": null,
      "metadata": {
        "id": "b9GugLUh45Ua"
      },
      "outputs": [],
      "source": [
        "a = [1, 2, 3]\n",
        "b = [4, 6, 8, 10]\n",
        "print(a + b)\n",
        "print(4 * a)\n"
      ]
    },
    {
      "cell_type": "markdown",
      "metadata": {
        "id": "Owxi7uaN504k"
      },
      "source": [
        "#### Accessing and Modifying List Elements\n"
      ]
    },
    {
      "cell_type": "code",
      "execution_count": null,
      "metadata": {
        "id": "W8odMPzR50VB"
      },
      "outputs": [],
      "source": [
        "numbers = [34, 13, 62, 91, 87, 66, 29, 17, 83, 55, 44]\n",
        "\n",
        "print(numbers[0])\n",
        "print(numbers[1])\n",
        "print(numbers[7])\n",
        "print(numbers[-1])\n",
        "print(numbers[-6])\n",
        "print()\n",
        "\n",
        "print(numbers[1:4])\n",
        "print(numbers[2:-2])\n",
        "print(numbers[3:3])\n",
        "print(numbers[8:])\n",
        "print(numbers[0:11])\n",
        "print(numbers[2:] + numbers[:2])\n",
        "print(numbers[::2])\n",
        "print()\n",
        "\n",
        "numbers[5] = 0\n",
        "numbers[0] = numbers[0] ** 2\n",
        "numbers[10] = -numbers[0]\n",
        "print(numbers)\n"
      ]
    },
    {
      "cell_type": "markdown",
      "metadata": {
        "id": "p8UlFJoe9GC-"
      },
      "source": [
        "##### Some cheatsheets\n",
        "\n",
        "- **Indexing a single element**\n",
        "\n",
        "```\n",
        "       0    1    2    3    4    5    6    7    8    9   10\n",
        "L = | 34 | 13 | 62 | 91 | 87 | 66 | 29 | 17 | 83 | 55 | 44 |\n",
        "     -11  -10   -9   -8   -7   -6   -5   -4   -3   -2   -1\n",
        "```\n",
        "\n",
        "- **Indexing a slice of elements**\n",
        "\n",
        "```\n",
        "    0    1    2    3    4    5    6    7    8    9   10   11\n",
        "L = | 34 | 13 | 62 | 91 | 87 | 66 | 29 | 17 | 83 | 55 | 44 |\n",
        "  -11  -10   -9   -8   -7   -6   -5   -4   -3   -2   -1\n",
        "```\n"
      ]
    },
    {
      "cell_type": "markdown",
      "metadata": {
        "id": "qaThm0M89iQ6"
      },
      "source": [
        "By the way, indexing, slicings, and concatenation works on strings too.\n"
      ]
    },
    {
      "cell_type": "code",
      "execution_count": null,
      "metadata": {
        "id": "OwXZnuNT9Sws"
      },
      "outputs": [],
      "source": [
        "disease = \"pneumonoultramicroscopicsilicovolcanoconiosis\"\n",
        "\n",
        "print(disease[0] + disease[-1])\n",
        "print(disease[14])\n",
        "print(disease[8:8+5])  # what is the word length?\n",
        "print(disease[32:29:-1] + disease[2])\n",
        "print(disease[-15:-15+7])  # what is the word length?\n",
        "\n",
        "print(\"oh\" + 3 * \" no\")\n"
      ]
    },
    {
      "cell_type": "markdown",
      "metadata": {
        "id": "vSKV4YoeONea"
      },
      "source": [
        "#### Sorting\n"
      ]
    },
    {
      "cell_type": "code",
      "execution_count": null,
      "metadata": {
        "id": "LpjcJpV_OQSS"
      },
      "outputs": [],
      "source": [
        "numbers = [34, 13, 62, 91, 87, 66, 29, 17, 83, 55, 44]\n",
        "\n",
        "print(sorted(numbers))\n",
        "print(sorted(numbers, reverse=True))\n"
      ]
    },
    {
      "cell_type": "code",
      "execution_count": null,
      "metadata": {
        "id": "8kOh6NwYOrkJ"
      },
      "outputs": [],
      "source": [
        "def last_digit(n):\n",
        "    \"\"\"Get only the last digit of a number.\"\"\"\n",
        "    return abs(n) % 10\n",
        "\n",
        "\n",
        "# Sorts the numbers based only on their last digits\n",
        "print(sorted(numbers, key=last_digit))\n"
      ]
    },
    {
      "cell_type": "markdown",
      "metadata": {
        "id": "ncTyNM4FFwq7"
      },
      "source": [
        "### Aside: Utility Functions With For Loops\n",
        "\n",
        "Allow us to introduce several built-in functions used in conjunction with for loop statements.\n",
        "\n",
        "Function **`enumerate`** makes sure that each for loop iterates over a sequence of indices as well as original values.\n"
      ]
    },
    {
      "cell_type": "code",
      "execution_count": null,
      "metadata": {
        "id": "Lxv1q-AXF-71"
      },
      "outputs": [],
      "source": [
        "denominations = [1, 2, 5, 10, 20, 50, 100, 500, 1000]\n",
        "\n",
        "for index, value in enumerate(denominations):\n",
        "    print(\"at index\", index, \"value is\", value,\n",
        "          \"which is equal to\", denominations[index])\n"
      ]
    },
    {
      "cell_type": "markdown",
      "metadata": {
        "id": "KGgVERKsPNQT"
      },
      "source": [
        "Function **`range`** allows for-loops to iterate over an arithmetic sequence of numbers.\n"
      ]
    },
    {
      "cell_type": "code",
      "execution_count": null,
      "metadata": {
        "id": "s2OMfYo7P5aa"
      },
      "outputs": [],
      "source": [
        "for number in range(5):\n",
        "    print(\"next number is\", number)\n",
        "\n",
        "for number in range(3, 7):\n",
        "    print(number)\n",
        "\n",
        "word = \"studying\"\n",
        "for start in range(4):\n",
        "    print(word[start:])\n"
      ]
    },
    {
      "cell_type": "markdown",
      "metadata": {
        "id": "Bvgo7q0-iMLh"
      },
      "source": [
        "Function **`zip`** groups multiple lists into a single list, element-by-element.\n"
      ]
    },
    {
      "cell_type": "code",
      "execution_count": null,
      "metadata": {
        "id": "PSyUonTsiaTQ"
      },
      "outputs": [],
      "source": [
        "for char, num in zip(\"heart\", [1, 3, 5, 7, 9]):\n",
        "    print(char * num)\n",
        "\n",
        "for first_char, second_char in zip(\"kale\", \"broccoli\"):\n",
        "    print(first_char + second_char)\n",
        "\n",
        "for x, y in zip(range(6), range(4, 8)):\n",
        "    print(x, y, x + y)\n",
        "\n",
        "for x, y, z in zip(range(0, 2), range(1, 3), range(2, 4)):\n",
        "    print(x, y, z, x * y * z)\n",
        "\n",
        "print(\"start\")\n",
        "for char, num in zip(\"this is a very long sentence\", []):\n",
        "    print(char * num)\n",
        "print(\"end\")\n"
      ]
    },
    {
      "cell_type": "markdown",
      "metadata": {
        "id": "7l3qRgS_hd2E"
      },
      "source": [
        "### Exercise: Letter Counting\n",
        "\n",
        "Write a function to count number of specific letters in a word. The function receives two input arguments: a word string and a target letter to count. It should output the number of such target letters in the word.\n"
      ]
    },
    {
      "cell_type": "code",
      "execution_count": null,
      "metadata": {
        "id": "znf6jIBnmO_W"
      },
      "outputs": [],
      "source": [
        "def count_letter(word, letter):\n",
        "    ...  # your code here\n",
        "\n",
        "\n",
        "print(count_letter(\"mohorovičić\", \"o\"))  # expected 3\n",
        "print(count_letter(\"mohorovičić\", \"i\"))  # expected 2\n",
        "print(count_letter(\"mohorovičić\", \"c\"))  # expected 0\n",
        "print(count_letter(\"5555555555\", \"5\"))  # expected 10\n",
        "print(count_letter(\"\", \"x\"))  # expected 0\n"
      ]
    },
    {
      "cell_type": "markdown",
      "metadata": {
        "id": "qAOoDdMurRH-"
      },
      "source": [
        "### Exercise: Prime Numbers\n",
        "\n",
        "What is a prime number? A prime number is an integer $n$ whose factors are $1$ and $n$ itself. In other words, integers from $2$ to $n-1$ does _not_ divide $n$ for $n$ to be a prime.\n",
        "\n",
        "Write a function to check whether a given integer is a prime number. It should receive an integer as input and should return a boolean (**`True`** or **`False`**) indicating whether the given input is prime or not.\n"
      ]
    },
    {
      "cell_type": "code",
      "execution_count": null,
      "metadata": {
        "id": "jwKpwzqXubNX"
      },
      "outputs": [],
      "source": [
        "def is_prime(number):\n",
        "    ...  # your code here (approx. 4 lines needed)\n",
        "\n",
        "\n",
        "primes = [n for n in range(2, 100) if is_prime(n)]\n",
        "print(primes)  # expected [2, 3, 5, 7, ..., 97]\n"
      ]
    },
    {
      "cell_type": "markdown",
      "metadata": {
        "id": "cp3SIdzUPP2F"
      },
      "source": [
        "## 6. Recursions\n"
      ]
    },
    {
      "cell_type": "markdown",
      "metadata": {
        "id": "mrwKAGl4SvVF"
      },
      "source": [
        "### Example: Factorial\n",
        "\n",
        "Although there is a way to compute $n!$ (factorial) for an integer input $n$ using just for loops, we will instead apply one of the most fundamental magic of computer science: **recursion**.\n",
        "\n",
        "Here is a common definition of factorial:\n",
        "\n",
        "> $n! = 1 \\times 2 \\times 3 \\times \\ldots \\times n$\n",
        "\n",
        "However, we can rewrite the above equation as in the following.\n",
        "\n",
        "> $n! = (n-1)! \\times n \\quad\\text{where}\\quad 0! = 1$\n"
      ]
    },
    {
      "cell_type": "code",
      "execution_count": null,
      "metadata": {
        "id": "LpbD2dIEPPKK"
      },
      "outputs": [],
      "source": [
        "def factorial(n):\n",
        "    \"\"\"Computes the factorial of n where\n",
        "    n is a non-negative integer.\n",
        "    \"\"\"\n",
        "    if n == 0:\n",
        "        return 1\n",
        "    else:\n",
        "        return factorial(n-1) * n\n",
        "\n",
        "\n",
        "print(factorial(1))\n",
        "print(factorial(3))\n",
        "print(factorial(6))\n",
        "print(factorial(10))\n",
        "\n",
        "# Breaching the contract of the function\n",
        "print(factorial(-1))\n"
      ]
    },
    {
      "cell_type": "markdown",
      "metadata": {
        "id": "LrwmrNBVVGyy"
      },
      "source": [
        "Ignore the last error for a second. It might seem strange at first as why the function makes a (_recursive_) call to itself. Let’s break down this process a bit for $n = 3$.\n",
        "\n",
        "- Computing `factorial(3)` will return `factorial(2) * 3`\n",
        "- Computing `factorial(2)` will, in turn, return `factorial(1) * 2`\n",
        "- Computing `factorial(1)` will return `factorial(0) * 1`\n",
        "- And computing `factorial(0)` will return `1`\n",
        "\n",
        "By substitution, it is not difficult to see that `factorial(3)` would end up with the result `1 * 1 * 2 * 3`, which is 6.\n",
        "\n",
        "---\n",
        "\n",
        "Now, repeat the break-down process for $n = -1$. We will start to see that, the computation keeps going on forever, because computing `factorial(-1)` requires computing `factorial(-2)`, and that in turn, requires computing `factorial(-3)`, and so on, and so on. There is no end to it. However, the only reason that Python produces the error is that it ran out of memory.\n"
      ]
    },
    {
      "cell_type": "markdown",
      "metadata": {
        "id": "WS8HlUX0uMrs"
      },
      "source": [
        "### Mystery Function\n",
        "\n",
        "Make a guess of what this function does.\n"
      ]
    },
    {
      "cell_type": "code",
      "execution_count": null,
      "metadata": {
        "id": "wg-_jnX5uS93"
      },
      "outputs": [],
      "source": [
        "def mystery(numbers):\n",
        "    if len(numbers) == 0:\n",
        "        return []\n",
        "    else:\n",
        "        lowers = []\n",
        "        equals = []\n",
        "        uppers = []\n",
        "        for n in numbers:\n",
        "            if n < numbers[0]:\n",
        "                lowers.append(n)\n",
        "            elif n > numbers[0]:\n",
        "                uppers.append(n)\n",
        "            else:\n",
        "                equals.append(n)\n",
        "        return mystery(lowers) + equals + mystery(uppers)\n",
        "\n",
        "\n",
        "print(mystery([6, 5, 4, 7, 2, 5, 3]))\n"
      ]
    },
    {
      "cell_type": "markdown",
      "metadata": {
        "id": "aTntXMgiMMAp"
      },
      "source": [
        "## 7. Other Programmers Invented The Wheel For You So That You Don’t Need To\n",
        "\n",
        "As discussed earlier, we programmers do not like to repeat themselves. If someone wrote a function you need, then good; you do not need to implement it by yourself. In terms of learning curve and economy, downloading, installing, importing, and using other people’s code is a smart choice.\n",
        "\n",
        "However, do not fool yourself that you cannot write those magical functionalities yourself. You have ability to learn and accumulate experiences enough to implement difficult functionalities by yourself. Remember, your only good excuse is that you don’t have enough time to do just every single task. When time comes, you could join the forefront of the community and create new pieces of software for others to use.\n",
        "\n",
        "With all that said, now let’s play around with other people’s code.\n"
      ]
    },
    {
      "cell_type": "markdown",
      "metadata": {
        "id": "zqcEP19BTBiV"
      },
      "source": [
        "### Generating QR Code\n",
        "\n",
        "Installing package: [qrcode](https://pypi.org/project/qrcode/).\n",
        "\n",
        "We can generate QR code from any string.\n"
      ]
    },
    {
      "cell_type": "code",
      "execution_count": null,
      "metadata": {
        "id": "wrf0vC_wrZ2P"
      },
      "outputs": [],
      "source": [
        "# This tells Colab to install a package from\n",
        "!pip install qrcode\n"
      ]
    },
    {
      "cell_type": "code",
      "execution_count": null,
      "metadata": {
        "id": "tp42PpqIpsk-"
      },
      "outputs": [],
      "source": [
        "import qrcode\n",
        "image = qrcode.make(\"Hello, World!\")\n",
        "display(image)\n"
      ]
    },
    {
      "cell_type": "markdown",
      "metadata": {
        "id": "Xdq_Keonqd9I"
      },
      "source": [
        "Scan the QR code below with a phone to see an [interesting geographical feature](https://www.atlasobscura.com/places/subsubsub-island-on-victoria-island).\n"
      ]
    },
    {
      "cell_type": "code",
      "execution_count": null,
      "metadata": {
        "id": "lLmf_3Fco_3V"
      },
      "outputs": [],
      "source": [
        "message = 'geo:69.7924,-108.2395'\n",
        "image = qrcode.make(message)\n",
        "display(image)\n"
      ]
    },
    {
      "cell_type": "markdown",
      "metadata": {
        "id": "n66RcwQXrN7R"
      },
      "source": [
        "Advanced usage of QR code, generate WiFi access for visitors to your home.\n"
      ]
    },
    {
      "cell_type": "code",
      "execution_count": null,
      "metadata": {
        "id": "PY19HCwXCZRm"
      },
      "outputs": [],
      "source": [
        "def generate_wifi_qrcode(ssid, password, auth_type='WPA'):\n",
        "    \"\"\"Generates a QR code image for WiFi access.\n",
        "\n",
        "    Arguments:\n",
        "        ssid: Name of the WiFi network\n",
        "        password: WiFi password\n",
        "        auth_type: Type of authentication (defaults to WPA)\n",
        "\n",
        "    Returns:\n",
        "        A Pillow image of the QR code (use display to show it)\n",
        "\n",
        "    For more information, see \n",
        "    https://github.com/zxing/zxing/wiki/Barcode-Contents#wi-fi-network-config-android-ios-11 \n",
        "    \"\"\"\n",
        "    message = 'WIFI:S:' + ssid + ';P:' + password + ';T:' + auth_type + ';;'\n",
        "    print(\"Encoded message:\", repr(message))\n",
        "    return qrcode.make(message)\n",
        "\n",
        "\n",
        "display(generate_wifi_qrcode('WiFi name', '12345678'))\n"
      ]
    },
    {
      "cell_type": "markdown",
      "metadata": {
        "id": "MDxBvvk9os2R"
      },
      "source": [
        "### Wikipedia\n",
        "\n",
        "Installing package: [wikipedia](https://pypi.org/project/wikipedia/).\n",
        "\n",
        "We can fetch Wikipedia pages through the web and display some content here.\n"
      ]
    },
    {
      "cell_type": "code",
      "execution_count": null,
      "metadata": {
        "id": "gbiYBgMRo8qR"
      },
      "outputs": [],
      "source": [
        "!pip install wikipedia\n"
      ]
    },
    {
      "cell_type": "code",
      "execution_count": null,
      "metadata": {
        "id": "MG1XB4mwovdA"
      },
      "outputs": [],
      "source": [
        "import textwrap\n",
        "import wikipedia\n",
        "\n",
        "result = wikipedia.page('3Blue1Brown')\n",
        "print(textwrap.fill(result.summary, width=66))\n"
      ]
    },
    {
      "cell_type": "markdown",
      "metadata": {
        "id": "FxcMAPXrsW9u"
      },
      "source": [
        "### Math Functions\n",
        "\n",
        "By the way, Python already comes with wide array of functionalities pre-installed. For example, [math](https://docs.python.org/3/library/math.html) package hosts a collection of with mathematical functions and constants (and similarly [cmath](https://docs.python.org/3/library/cmath.html) package to deal with complex numbers).\n"
      ]
    },
    {
      "cell_type": "code",
      "execution_count": null,
      "metadata": {
        "id": "8I9gghcytC00"
      },
      "outputs": [],
      "source": [
        "import math\n",
        "\n",
        "print(format(math.degrees(math.pi / 3), '.12f'))\n",
        "print(format(math.cos(math.pi / 3), '.12f'))\n",
        "print(math.gcd(1991, 2534))\n"
      ]
    },
    {
      "cell_type": "markdown",
      "metadata": {
        "id": "vOOYSx_XEwdR"
      },
      "source": [
        "### Randomization\n",
        "\n",
        "Wanna test your luck, try [random](https://docs.python.org/3/library/random.html) package.\n"
      ]
    },
    {
      "cell_type": "code",
      "execution_count": null,
      "metadata": {
        "id": "mqYVfHPsEvyT"
      },
      "outputs": [],
      "source": [
        "import random\n",
        "\n",
        "print(random.randint(0, 99))\n",
        "\n",
        "foods = ['หมูกรอบ', 'ผัดกะเพรา', 'ชานมไข่มุก']\n",
        "print(random.choice(foods))\n",
        "print(random.choice(foods))\n",
        "print(random.choice(foods))\n",
        "print(random.choice(foods))\n",
        "print(random.choice(foods))\n",
        "print(random.choice(foods))\n"
      ]
    },
    {
      "cell_type": "code",
      "execution_count": null,
      "metadata": {
        "id": "58SA_7oJG8nl"
      },
      "outputs": [],
      "source": [
        "def drop_at_least_once(drop_rate, n_attempts):\n",
        "    \"\"\"Performs Bernoulli sampling and see if winning at least once.\n",
        "\n",
        "    Arguments:\n",
        "        drop_rate: Probability rate of item being drop,\n",
        "            which must be a number within the range from 0.0 to 1.0\n",
        "        n_attempts: Number of attempts to claim such item,\n",
        "            which must be a positive integer.\n",
        "\n",
        "    Returns:\n",
        "        A boolean indicating whether such item is won at least once.\n",
        "    \"\"\"\n",
        "    for _ in range(n_attempts):\n",
        "        if random.random() < drop_rate:\n",
        "            return True\n",
        "    return False\n",
        "\n",
        "\n",
        "for _ in range(10):\n",
        "    print(drop_at_least_once(0.003, 100))\n"
      ]
    },
    {
      "cell_type": "markdown",
      "metadata": {
        "id": "bWBErV95sl3e"
      },
      "source": [
        "## Final Notes\n",
        "\n",
        "We have covered about 20% of Python syntax. There is a lot more to pick up. [Check out Python tutorial on their website!](https://docs.python.org/3/tutorial/) Review chapters 3, 4, and 5 in particular. Some matertials were not covered here, but please do not be afraid to try out yourself.\n"
      ]
    }
  ],
  "metadata": {
    "colab": {
      "collapsed_sections": [],
      "name": "ai_builder_intro_python.ipynb",
      "provenance": []
    },
    "kernelspec": {
      "display_name": "Python 3.10.6 64-bit",
      "language": "python",
      "name": "python3"
    },
    "language_info": {
      "codemirror_mode": {
        "name": "ipython",
        "version": 3
      },
      "file_extension": ".py",
      "mimetype": "text/x-python",
      "name": "python",
      "nbconvert_exporter": "python",
      "pygments_lexer": "ipython3",
      "version": "3.10.7"
    },
    "vscode": {
      "interpreter": {
        "hash": "369f2c481f4da34e4445cda3fffd2e751bd1c4d706f27375911949ba6bb62e1c"
      }
    }
  },
  "nbformat": 4,
  "nbformat_minor": 0
}
